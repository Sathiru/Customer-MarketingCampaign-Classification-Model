{
 "cells": [
  {
   "cell_type": "markdown",
   "id": "1d21104f",
   "metadata": {},
   "source": [
    "### 1.Define the problem:"
   ]
  },
  {
   "cell_type": "markdown",
   "id": "909d0000",
   "metadata": {},
   "source": [
    "There has been a revenue decline in the Portuguese Bank and they would like to know what actions to take. After investigation, they found that the root cause was that their customers are not investing enough for long term deposits. So the bank would like to identify existing customers that have a higher chance to subscribe for a long term deposit and focus marketing efforts on such customers.\n"
   ]
  },
  {
   "cell_type": "code",
   "execution_count": 1,
   "id": "ccdfbe77",
   "metadata": {},
   "outputs": [],
   "source": [
    "import warnings\n",
    "warnings.filterwarnings(\"ignore\")\n",
    "\n",
    "#Libraries for data computation and data manipulation\n",
    "import pandas as pd\n",
    "import numpy as np\n",
    "\n",
    "#Libraries for data visualization\n",
    "import matplotlib.pyplot as plt\n",
    "import seaborn as sns\n",
    "%matplotlib inline\n",
    "\n",
    "#Libraries to split train test data, perform metrics and to tune data\n",
    "from sklearn.model_selection import train_test_split, cross_val_score\n",
    "from sklearn.model_selection import GridSearchCV, RandomizedSearchCV\n",
    "from sklearn.metrics import (\n",
    "    f1_score, \n",
    "    precision_recall_curve, \n",
    "    average_precision_score, \n",
    "    plot_precision_recall_curve)\n",
    "from sklearn.pipeline import Pipeline, make_pipeline\n",
    "\n",
    "#Libraries for model building\n",
    "from sklearn.linear_model import LogisticRegression\n",
    "from sklearn.tree import DecisionTreeClassifier\n",
    "from sklearn.ensemble import (\n",
    "    RandomForestClassifier, \n",
    "    GradientBoostingClassifier,\n",
    "    AdaBoostClassifier)\n",
    "from xgboost import XGBClassifier\n"
   ]
  },
  {
   "cell_type": "markdown",
   "id": "a1b9326e",
   "metadata": {},
   "source": [
    "### Load dataset"
   ]
  },
  {
   "cell_type": "code",
   "execution_count": 2,
   "id": "906538a3",
   "metadata": {},
   "outputs": [
    {
     "data": {
      "text/html": [
       "<div>\n",
       "<style scoped>\n",
       "    .dataframe tbody tr th:only-of-type {\n",
       "        vertical-align: middle;\n",
       "    }\n",
       "\n",
       "    .dataframe tbody tr th {\n",
       "        vertical-align: top;\n",
       "    }\n",
       "\n",
       "    .dataframe thead th {\n",
       "        text-align: right;\n",
       "    }\n",
       "</style>\n",
       "<table border=\"1\" class=\"dataframe\">\n",
       "  <thead>\n",
       "    <tr style=\"text-align: right;\">\n",
       "      <th></th>\n",
       "      <th>age</th>\n",
       "      <th>job</th>\n",
       "      <th>marital</th>\n",
       "      <th>education</th>\n",
       "      <th>default</th>\n",
       "      <th>housing</th>\n",
       "      <th>loan</th>\n",
       "      <th>contact</th>\n",
       "      <th>month</th>\n",
       "      <th>day_of_week</th>\n",
       "      <th>duration</th>\n",
       "      <th>campaign</th>\n",
       "      <th>pdays</th>\n",
       "      <th>previous</th>\n",
       "      <th>poutcome</th>\n",
       "      <th>y</th>\n",
       "    </tr>\n",
       "  </thead>\n",
       "  <tbody>\n",
       "    <tr>\n",
       "      <th>0</th>\n",
       "      <td>49</td>\n",
       "      <td>blue-collar</td>\n",
       "      <td>married</td>\n",
       "      <td>basic.9y</td>\n",
       "      <td>unknown</td>\n",
       "      <td>no</td>\n",
       "      <td>no</td>\n",
       "      <td>cellular</td>\n",
       "      <td>nov</td>\n",
       "      <td>wed</td>\n",
       "      <td>227</td>\n",
       "      <td>4</td>\n",
       "      <td>999</td>\n",
       "      <td>0</td>\n",
       "      <td>nonexistent</td>\n",
       "      <td>no</td>\n",
       "    </tr>\n",
       "    <tr>\n",
       "      <th>1</th>\n",
       "      <td>37</td>\n",
       "      <td>entrepreneur</td>\n",
       "      <td>married</td>\n",
       "      <td>university.degree</td>\n",
       "      <td>no</td>\n",
       "      <td>no</td>\n",
       "      <td>no</td>\n",
       "      <td>telephone</td>\n",
       "      <td>nov</td>\n",
       "      <td>wed</td>\n",
       "      <td>202</td>\n",
       "      <td>2</td>\n",
       "      <td>999</td>\n",
       "      <td>1</td>\n",
       "      <td>failure</td>\n",
       "      <td>no</td>\n",
       "    </tr>\n",
       "    <tr>\n",
       "      <th>2</th>\n",
       "      <td>78</td>\n",
       "      <td>retired</td>\n",
       "      <td>married</td>\n",
       "      <td>basic.4y</td>\n",
       "      <td>no</td>\n",
       "      <td>no</td>\n",
       "      <td>no</td>\n",
       "      <td>cellular</td>\n",
       "      <td>jul</td>\n",
       "      <td>mon</td>\n",
       "      <td>1148</td>\n",
       "      <td>1</td>\n",
       "      <td>999</td>\n",
       "      <td>0</td>\n",
       "      <td>nonexistent</td>\n",
       "      <td>yes</td>\n",
       "    </tr>\n",
       "    <tr>\n",
       "      <th>3</th>\n",
       "      <td>36</td>\n",
       "      <td>admin.</td>\n",
       "      <td>married</td>\n",
       "      <td>university.degree</td>\n",
       "      <td>no</td>\n",
       "      <td>yes</td>\n",
       "      <td>no</td>\n",
       "      <td>telephone</td>\n",
       "      <td>may</td>\n",
       "      <td>mon</td>\n",
       "      <td>120</td>\n",
       "      <td>2</td>\n",
       "      <td>999</td>\n",
       "      <td>0</td>\n",
       "      <td>nonexistent</td>\n",
       "      <td>no</td>\n",
       "    </tr>\n",
       "    <tr>\n",
       "      <th>4</th>\n",
       "      <td>59</td>\n",
       "      <td>retired</td>\n",
       "      <td>divorced</td>\n",
       "      <td>university.degree</td>\n",
       "      <td>no</td>\n",
       "      <td>no</td>\n",
       "      <td>no</td>\n",
       "      <td>cellular</td>\n",
       "      <td>jun</td>\n",
       "      <td>tue</td>\n",
       "      <td>368</td>\n",
       "      <td>2</td>\n",
       "      <td>999</td>\n",
       "      <td>0</td>\n",
       "      <td>nonexistent</td>\n",
       "      <td>no</td>\n",
       "    </tr>\n",
       "  </tbody>\n",
       "</table>\n",
       "</div>"
      ],
      "text/plain": [
       "   age           job   marital          education  default housing loan  \\\n",
       "0   49   blue-collar   married           basic.9y  unknown      no   no   \n",
       "1   37  entrepreneur   married  university.degree       no      no   no   \n",
       "2   78       retired   married           basic.4y       no      no   no   \n",
       "3   36        admin.   married  university.degree       no     yes   no   \n",
       "4   59       retired  divorced  university.degree       no      no   no   \n",
       "\n",
       "     contact month day_of_week  duration  campaign  pdays  previous  \\\n",
       "0   cellular   nov         wed       227         4    999         0   \n",
       "1  telephone   nov         wed       202         2    999         1   \n",
       "2   cellular   jul         mon      1148         1    999         0   \n",
       "3  telephone   may         mon       120         2    999         0   \n",
       "4   cellular   jun         tue       368         2    999         0   \n",
       "\n",
       "      poutcome    y  \n",
       "0  nonexistent   no  \n",
       "1      failure   no  \n",
       "2  nonexistent  yes  \n",
       "3  nonexistent   no  \n",
       "4  nonexistent   no  "
      ]
     },
     "execution_count": 2,
     "metadata": {},
     "output_type": "execute_result"
    }
   ],
   "source": [
    "train_data = pd.read_csv(\"new_train.csv\")\n",
    "train_data.head()"
   ]
  },
  {
   "cell_type": "markdown",
   "id": "4c9a3e48",
   "metadata": {},
   "source": [
    "### 2. Discover"
   ]
  },
  {
   "cell_type": "markdown",
   "id": "736979c5",
   "metadata": {},
   "source": [
    "### Explore  and Clean the data - Data Preprocessing and Explanatory Data Analysis"
   ]
  },
  {
   "cell_type": "code",
   "execution_count": 3,
   "id": "075b4829",
   "metadata": {},
   "outputs": [
    {
     "name": "stdout",
     "output_type": "stream",
     "text": [
      "<class 'pandas.core.frame.DataFrame'>\n",
      "RangeIndex: 32950 entries, 0 to 32949\n",
      "Data columns (total 16 columns):\n",
      " #   Column       Non-Null Count  Dtype \n",
      "---  ------       --------------  ----- \n",
      " 0   age          32950 non-null  int64 \n",
      " 1   job          32950 non-null  object\n",
      " 2   marital      32950 non-null  object\n",
      " 3   education    32950 non-null  object\n",
      " 4   default      32950 non-null  object\n",
      " 5   housing      32950 non-null  object\n",
      " 6   loan         32950 non-null  object\n",
      " 7   contact      32950 non-null  object\n",
      " 8   month        32950 non-null  object\n",
      " 9   day_of_week  32950 non-null  object\n",
      " 10  duration     32950 non-null  int64 \n",
      " 11  campaign     32950 non-null  int64 \n",
      " 12  pdays        32950 non-null  int64 \n",
      " 13  previous     32950 non-null  int64 \n",
      " 14  poutcome     32950 non-null  object\n",
      " 15  y            32950 non-null  object\n",
      "dtypes: int64(5), object(11)\n",
      "memory usage: 4.0+ MB\n"
     ]
    }
   ],
   "source": [
    "train_data.info()"
   ]
  },
  {
   "cell_type": "markdown",
   "id": "2b3f5894",
   "metadata": {},
   "source": [
    "- There are 15 columns and total of 32950 observation in the dataset.\n",
    "- There is no missing values.\n",
    "- The dataset contains the mix of categorical and numerical features."
   ]
  },
  {
   "cell_type": "code",
   "execution_count": 4,
   "id": "50d4d1f2",
   "metadata": {},
   "outputs": [
    {
     "data": {
      "text/html": [
       "<div>\n",
       "<style scoped>\n",
       "    .dataframe tbody tr th:only-of-type {\n",
       "        vertical-align: middle;\n",
       "    }\n",
       "\n",
       "    .dataframe tbody tr th {\n",
       "        vertical-align: top;\n",
       "    }\n",
       "\n",
       "    .dataframe thead th {\n",
       "        text-align: right;\n",
       "    }\n",
       "</style>\n",
       "<table border=\"1\" class=\"dataframe\">\n",
       "  <thead>\n",
       "    <tr style=\"text-align: right;\">\n",
       "      <th></th>\n",
       "      <th>age</th>\n",
       "      <th>duration</th>\n",
       "      <th>campaign</th>\n",
       "      <th>pdays</th>\n",
       "      <th>previous</th>\n",
       "    </tr>\n",
       "  </thead>\n",
       "  <tbody>\n",
       "    <tr>\n",
       "      <th>count</th>\n",
       "      <td>32950.000000</td>\n",
       "      <td>32950.000000</td>\n",
       "      <td>32950.000000</td>\n",
       "      <td>32950.000000</td>\n",
       "      <td>32950.000000</td>\n",
       "    </tr>\n",
       "    <tr>\n",
       "      <th>mean</th>\n",
       "      <td>40.014112</td>\n",
       "      <td>258.127466</td>\n",
       "      <td>2.560607</td>\n",
       "      <td>962.052413</td>\n",
       "      <td>0.174719</td>\n",
       "    </tr>\n",
       "    <tr>\n",
       "      <th>std</th>\n",
       "      <td>10.403636</td>\n",
       "      <td>258.975917</td>\n",
       "      <td>2.752326</td>\n",
       "      <td>187.951096</td>\n",
       "      <td>0.499025</td>\n",
       "    </tr>\n",
       "    <tr>\n",
       "      <th>min</th>\n",
       "      <td>17.000000</td>\n",
       "      <td>0.000000</td>\n",
       "      <td>1.000000</td>\n",
       "      <td>0.000000</td>\n",
       "      <td>0.000000</td>\n",
       "    </tr>\n",
       "    <tr>\n",
       "      <th>25%</th>\n",
       "      <td>32.000000</td>\n",
       "      <td>103.000000</td>\n",
       "      <td>1.000000</td>\n",
       "      <td>999.000000</td>\n",
       "      <td>0.000000</td>\n",
       "    </tr>\n",
       "    <tr>\n",
       "      <th>50%</th>\n",
       "      <td>38.000000</td>\n",
       "      <td>180.000000</td>\n",
       "      <td>2.000000</td>\n",
       "      <td>999.000000</td>\n",
       "      <td>0.000000</td>\n",
       "    </tr>\n",
       "    <tr>\n",
       "      <th>75%</th>\n",
       "      <td>47.000000</td>\n",
       "      <td>319.000000</td>\n",
       "      <td>3.000000</td>\n",
       "      <td>999.000000</td>\n",
       "      <td>0.000000</td>\n",
       "    </tr>\n",
       "    <tr>\n",
       "      <th>max</th>\n",
       "      <td>98.000000</td>\n",
       "      <td>4918.000000</td>\n",
       "      <td>56.000000</td>\n",
       "      <td>999.000000</td>\n",
       "      <td>7.000000</td>\n",
       "    </tr>\n",
       "  </tbody>\n",
       "</table>\n",
       "</div>"
      ],
      "text/plain": [
       "                age      duration      campaign         pdays      previous\n",
       "count  32950.000000  32950.000000  32950.000000  32950.000000  32950.000000\n",
       "mean      40.014112    258.127466      2.560607    962.052413      0.174719\n",
       "std       10.403636    258.975917      2.752326    187.951096      0.499025\n",
       "min       17.000000      0.000000      1.000000      0.000000      0.000000\n",
       "25%       32.000000    103.000000      1.000000    999.000000      0.000000\n",
       "50%       38.000000    180.000000      2.000000    999.000000      0.000000\n",
       "75%       47.000000    319.000000      3.000000    999.000000      0.000000\n",
       "max       98.000000   4918.000000     56.000000    999.000000      7.000000"
      ]
     },
     "execution_count": 4,
     "metadata": {},
     "output_type": "execute_result"
    }
   ],
   "source": [
    "# Statistic summary of numeric features\n",
    "train_data.describe(include = [np.number])"
   ]
  },
  {
   "cell_type": "code",
   "execution_count": 5,
   "id": "b9c455d3",
   "metadata": {},
   "outputs": [
    {
     "data": {
      "text/html": [
       "<div>\n",
       "<style scoped>\n",
       "    .dataframe tbody tr th:only-of-type {\n",
       "        vertical-align: middle;\n",
       "    }\n",
       "\n",
       "    .dataframe tbody tr th {\n",
       "        vertical-align: top;\n",
       "    }\n",
       "\n",
       "    .dataframe thead th {\n",
       "        text-align: right;\n",
       "    }\n",
       "</style>\n",
       "<table border=\"1\" class=\"dataframe\">\n",
       "  <thead>\n",
       "    <tr style=\"text-align: right;\">\n",
       "      <th></th>\n",
       "      <th>job</th>\n",
       "      <th>marital</th>\n",
       "      <th>education</th>\n",
       "      <th>default</th>\n",
       "      <th>housing</th>\n",
       "      <th>loan</th>\n",
       "      <th>contact</th>\n",
       "      <th>month</th>\n",
       "      <th>day_of_week</th>\n",
       "      <th>poutcome</th>\n",
       "      <th>y</th>\n",
       "    </tr>\n",
       "  </thead>\n",
       "  <tbody>\n",
       "    <tr>\n",
       "      <th>count</th>\n",
       "      <td>32950</td>\n",
       "      <td>32950</td>\n",
       "      <td>32950</td>\n",
       "      <td>32950</td>\n",
       "      <td>32950</td>\n",
       "      <td>32950</td>\n",
       "      <td>32950</td>\n",
       "      <td>32950</td>\n",
       "      <td>32950</td>\n",
       "      <td>32950</td>\n",
       "      <td>32950</td>\n",
       "    </tr>\n",
       "    <tr>\n",
       "      <th>unique</th>\n",
       "      <td>12</td>\n",
       "      <td>4</td>\n",
       "      <td>8</td>\n",
       "      <td>3</td>\n",
       "      <td>3</td>\n",
       "      <td>3</td>\n",
       "      <td>2</td>\n",
       "      <td>10</td>\n",
       "      <td>5</td>\n",
       "      <td>3</td>\n",
       "      <td>2</td>\n",
       "    </tr>\n",
       "    <tr>\n",
       "      <th>top</th>\n",
       "      <td>admin.</td>\n",
       "      <td>married</td>\n",
       "      <td>university.degree</td>\n",
       "      <td>no</td>\n",
       "      <td>yes</td>\n",
       "      <td>no</td>\n",
       "      <td>cellular</td>\n",
       "      <td>may</td>\n",
       "      <td>thu</td>\n",
       "      <td>nonexistent</td>\n",
       "      <td>no</td>\n",
       "    </tr>\n",
       "    <tr>\n",
       "      <th>freq</th>\n",
       "      <td>8314</td>\n",
       "      <td>19953</td>\n",
       "      <td>9736</td>\n",
       "      <td>26007</td>\n",
       "      <td>17254</td>\n",
       "      <td>27131</td>\n",
       "      <td>20908</td>\n",
       "      <td>11011</td>\n",
       "      <td>6857</td>\n",
       "      <td>28416</td>\n",
       "      <td>29238</td>\n",
       "    </tr>\n",
       "  </tbody>\n",
       "</table>\n",
       "</div>"
      ],
      "text/plain": [
       "           job  marital          education default housing   loan   contact  \\\n",
       "count    32950    32950              32950   32950   32950  32950     32950   \n",
       "unique      12        4                  8       3       3      3         2   \n",
       "top     admin.  married  university.degree      no     yes     no  cellular   \n",
       "freq      8314    19953               9736   26007   17254  27131     20908   \n",
       "\n",
       "        month day_of_week     poutcome      y  \n",
       "count   32950       32950        32950  32950  \n",
       "unique     10           5            3      2  \n",
       "top       may         thu  nonexistent     no  \n",
       "freq    11011        6857        28416  29238  "
      ]
     },
     "execution_count": 5,
     "metadata": {},
     "output_type": "execute_result"
    }
   ],
   "source": [
    "# Statistic summary of categorical features\n",
    "train_data.describe(include = ['O'])"
   ]
  },
  {
   "cell_type": "code",
   "execution_count": 6,
   "id": "97bfaf93",
   "metadata": {},
   "outputs": [
    {
     "data": {
      "text/html": [
       "<div>\n",
       "<style scoped>\n",
       "    .dataframe tbody tr th:only-of-type {\n",
       "        vertical-align: middle;\n",
       "    }\n",
       "\n",
       "    .dataframe tbody tr th {\n",
       "        vertical-align: top;\n",
       "    }\n",
       "\n",
       "    .dataframe thead th {\n",
       "        text-align: right;\n",
       "    }\n",
       "</style>\n",
       "<table border=\"1\" class=\"dataframe\">\n",
       "  <thead>\n",
       "    <tr style=\"text-align: right;\">\n",
       "      <th></th>\n",
       "      <th>age</th>\n",
       "      <th>job</th>\n",
       "      <th>marital</th>\n",
       "      <th>education</th>\n",
       "      <th>default</th>\n",
       "      <th>housing</th>\n",
       "      <th>loan</th>\n",
       "      <th>contact</th>\n",
       "      <th>month</th>\n",
       "      <th>day_of_week</th>\n",
       "      <th>duration</th>\n",
       "      <th>campaign</th>\n",
       "      <th>pdays</th>\n",
       "      <th>previous</th>\n",
       "      <th>poutcome</th>\n",
       "      <th>y</th>\n",
       "    </tr>\n",
       "  </thead>\n",
       "  <tbody>\n",
       "    <tr>\n",
       "      <th>1923</th>\n",
       "      <td>39</td>\n",
       "      <td>admin.</td>\n",
       "      <td>married</td>\n",
       "      <td>university.degree</td>\n",
       "      <td>no</td>\n",
       "      <td>no</td>\n",
       "      <td>no</td>\n",
       "      <td>cellular</td>\n",
       "      <td>nov</td>\n",
       "      <td>tue</td>\n",
       "      <td>123</td>\n",
       "      <td>2</td>\n",
       "      <td>999</td>\n",
       "      <td>0</td>\n",
       "      <td>nonexistent</td>\n",
       "      <td>no</td>\n",
       "    </tr>\n",
       "    <tr>\n",
       "      <th>12252</th>\n",
       "      <td>36</td>\n",
       "      <td>retired</td>\n",
       "      <td>married</td>\n",
       "      <td>unknown</td>\n",
       "      <td>no</td>\n",
       "      <td>no</td>\n",
       "      <td>no</td>\n",
       "      <td>telephone</td>\n",
       "      <td>jul</td>\n",
       "      <td>thu</td>\n",
       "      <td>88</td>\n",
       "      <td>1</td>\n",
       "      <td>999</td>\n",
       "      <td>0</td>\n",
       "      <td>nonexistent</td>\n",
       "      <td>no</td>\n",
       "    </tr>\n",
       "    <tr>\n",
       "      <th>20067</th>\n",
       "      <td>35</td>\n",
       "      <td>admin.</td>\n",
       "      <td>married</td>\n",
       "      <td>university.degree</td>\n",
       "      <td>no</td>\n",
       "      <td>yes</td>\n",
       "      <td>no</td>\n",
       "      <td>cellular</td>\n",
       "      <td>may</td>\n",
       "      <td>fri</td>\n",
       "      <td>348</td>\n",
       "      <td>4</td>\n",
       "      <td>999</td>\n",
       "      <td>0</td>\n",
       "      <td>nonexistent</td>\n",
       "      <td>no</td>\n",
       "    </tr>\n",
       "    <tr>\n",
       "      <th>24831</th>\n",
       "      <td>41</td>\n",
       "      <td>technician</td>\n",
       "      <td>married</td>\n",
       "      <td>professional.course</td>\n",
       "      <td>no</td>\n",
       "      <td>yes</td>\n",
       "      <td>no</td>\n",
       "      <td>cellular</td>\n",
       "      <td>aug</td>\n",
       "      <td>tue</td>\n",
       "      <td>127</td>\n",
       "      <td>1</td>\n",
       "      <td>999</td>\n",
       "      <td>0</td>\n",
       "      <td>nonexistent</td>\n",
       "      <td>no</td>\n",
       "    </tr>\n",
       "    <tr>\n",
       "      <th>28456</th>\n",
       "      <td>55</td>\n",
       "      <td>services</td>\n",
       "      <td>married</td>\n",
       "      <td>high.school</td>\n",
       "      <td>unknown</td>\n",
       "      <td>no</td>\n",
       "      <td>no</td>\n",
       "      <td>cellular</td>\n",
       "      <td>aug</td>\n",
       "      <td>mon</td>\n",
       "      <td>33</td>\n",
       "      <td>1</td>\n",
       "      <td>999</td>\n",
       "      <td>0</td>\n",
       "      <td>nonexistent</td>\n",
       "      <td>no</td>\n",
       "    </tr>\n",
       "    <tr>\n",
       "      <th>29543</th>\n",
       "      <td>47</td>\n",
       "      <td>technician</td>\n",
       "      <td>divorced</td>\n",
       "      <td>high.school</td>\n",
       "      <td>no</td>\n",
       "      <td>yes</td>\n",
       "      <td>no</td>\n",
       "      <td>cellular</td>\n",
       "      <td>jul</td>\n",
       "      <td>thu</td>\n",
       "      <td>43</td>\n",
       "      <td>3</td>\n",
       "      <td>999</td>\n",
       "      <td>0</td>\n",
       "      <td>nonexistent</td>\n",
       "      <td>no</td>\n",
       "    </tr>\n",
       "    <tr>\n",
       "      <th>30807</th>\n",
       "      <td>71</td>\n",
       "      <td>retired</td>\n",
       "      <td>single</td>\n",
       "      <td>university.degree</td>\n",
       "      <td>no</td>\n",
       "      <td>no</td>\n",
       "      <td>no</td>\n",
       "      <td>telephone</td>\n",
       "      <td>oct</td>\n",
       "      <td>tue</td>\n",
       "      <td>120</td>\n",
       "      <td>1</td>\n",
       "      <td>999</td>\n",
       "      <td>0</td>\n",
       "      <td>nonexistent</td>\n",
       "      <td>no</td>\n",
       "    </tr>\n",
       "    <tr>\n",
       "      <th>32607</th>\n",
       "      <td>39</td>\n",
       "      <td>blue-collar</td>\n",
       "      <td>married</td>\n",
       "      <td>basic.6y</td>\n",
       "      <td>no</td>\n",
       "      <td>no</td>\n",
       "      <td>no</td>\n",
       "      <td>telephone</td>\n",
       "      <td>may</td>\n",
       "      <td>thu</td>\n",
       "      <td>124</td>\n",
       "      <td>1</td>\n",
       "      <td>999</td>\n",
       "      <td>0</td>\n",
       "      <td>nonexistent</td>\n",
       "      <td>no</td>\n",
       "    </tr>\n",
       "  </tbody>\n",
       "</table>\n",
       "</div>"
      ],
      "text/plain": [
       "       age          job   marital            education  default housing loan  \\\n",
       "1923    39       admin.   married    university.degree       no      no   no   \n",
       "12252   36      retired   married              unknown       no      no   no   \n",
       "20067   35       admin.   married    university.degree       no     yes   no   \n",
       "24831   41   technician   married  professional.course       no     yes   no   \n",
       "28456   55     services   married          high.school  unknown      no   no   \n",
       "29543   47   technician  divorced          high.school       no     yes   no   \n",
       "30807   71      retired    single    university.degree       no      no   no   \n",
       "32607   39  blue-collar   married             basic.6y       no      no   no   \n",
       "\n",
       "         contact month day_of_week  duration  campaign  pdays  previous  \\\n",
       "1923    cellular   nov         tue       123         2    999         0   \n",
       "12252  telephone   jul         thu        88         1    999         0   \n",
       "20067   cellular   may         fri       348         4    999         0   \n",
       "24831   cellular   aug         tue       127         1    999         0   \n",
       "28456   cellular   aug         mon        33         1    999         0   \n",
       "29543   cellular   jul         thu        43         3    999         0   \n",
       "30807  telephone   oct         tue       120         1    999         0   \n",
       "32607  telephone   may         thu       124         1    999         0   \n",
       "\n",
       "          poutcome   y  \n",
       "1923   nonexistent  no  \n",
       "12252  nonexistent  no  \n",
       "20067  nonexistent  no  \n",
       "24831  nonexistent  no  \n",
       "28456  nonexistent  no  \n",
       "29543  nonexistent  no  \n",
       "30807  nonexistent  no  \n",
       "32607  nonexistent  no  "
      ]
     },
     "execution_count": 6,
     "metadata": {},
     "output_type": "execute_result"
    }
   ],
   "source": [
    "# Checking for duplicates\n",
    "train_data[train_data.duplicated()]"
   ]
  },
  {
   "cell_type": "code",
   "execution_count": 7,
   "id": "67745e01",
   "metadata": {},
   "outputs": [],
   "source": [
    "# Dropped the duplicates - by default will keep the first occurence and drop the duplicates\n",
    "train_data.drop_duplicates(inplace=True)"
   ]
  },
  {
   "cell_type": "code",
   "execution_count": 8,
   "id": "bd85f483",
   "metadata": {},
   "outputs": [
    {
     "data": {
      "image/png": "[encoded data removed]",
      "text/plain": [
       "<Figure size 432x288 with 1 Axes>"
      ]
     },
     "metadata": {
      "needs_background": "light"
     },
     "output_type": "display_data"
    }
   ],
   "source": [
    "# Checking the dependent variable\n",
    "target_count=pd.value_counts(train_data['y'],sort=True)\n",
    "target_count.plot(kind='bar', color=\"Green\")\n",
    "plt.title(\"Client Subscription Distribution\")\n",
    "plt.xlabel(\"Client Subcribed\")\n",
    "plt.ylabel(\"Count\")\n",
    "plt.savefig(\"images/Client_subscription_desc.png\")"
   ]
  },
  {
   "cell_type": "code",
   "execution_count": 9,
   "id": "6008ee66",
   "metadata": {},
   "outputs": [
    {
     "data": {
      "text/html": [
       "<div>\n",
       "<style scoped>\n",
       "    .dataframe tbody tr th:only-of-type {\n",
       "        vertical-align: middle;\n",
       "    }\n",
       "\n",
       "    .dataframe tbody tr th {\n",
       "        vertical-align: top;\n",
       "    }\n",
       "\n",
       "    .dataframe thead th {\n",
       "        text-align: right;\n",
       "    }\n",
       "</style>\n",
       "<table border=\"1\" class=\"dataframe\">\n",
       "  <thead>\n",
       "    <tr style=\"text-align: right;\">\n",
       "      <th></th>\n",
       "      <th>Count</th>\n",
       "      <th>%</th>\n",
       "    </tr>\n",
       "  </thead>\n",
       "  <tbody>\n",
       "    <tr>\n",
       "      <th>no</th>\n",
       "      <td>29230</td>\n",
       "      <td>0.887317</td>\n",
       "    </tr>\n",
       "    <tr>\n",
       "      <th>yes</th>\n",
       "      <td>3712</td>\n",
       "      <td>0.112683</td>\n",
       "    </tr>\n",
       "  </tbody>\n",
       "</table>\n",
       "</div>"
      ],
      "text/plain": [
       "     Count         %\n",
       "no   29230  0.887317\n",
       "yes   3712  0.112683"
      ]
     },
     "execution_count": 9,
     "metadata": {},
     "output_type": "execute_result"
    }
   ],
   "source": [
    "# Checkcing for imbalance dataset\n",
    "count = train_data['y'].value_counts()\n",
    "perc=train_data['y'].value_counts(normalize=True)\n",
    "pd.concat([count, perc], axis=1, keys=['Count', '%'] )"
   ]
  },
  {
   "cell_type": "markdown",
   "id": "6244a772",
   "metadata": {},
   "source": [
    "The target variable contains the data with the ratio of 89% \"NO\" to 11% \"Yes\", which is highly imbalanced dataset. We will handle it later.\n",
    "- In general techniques used to handle imbalance datasets are,\n",
    "    * Undersampling\n",
    "    * Oversampling\n",
    "    * SMOTE"
   ]
  },
  {
   "cell_type": "code",
   "execution_count": 10,
   "id": "c208498d",
   "metadata": {},
   "outputs": [
    {
     "data": {
      "text/plain": [
       "(3712, 16)"
      ]
     },
     "execution_count": 10,
     "metadata": {},
     "output_type": "execute_result"
    }
   ],
   "source": [
    "#subset dataset with y-\"yes\" for Data Analysis as our main focus is who responded to the campaign.\n",
    "data_sub=train_data[train_data['y']=='yes']\n",
    "data_sub.shape"
   ]
  },
  {
   "cell_type": "markdown",
   "id": "bf916828",
   "metadata": {},
   "source": [
    "#### Exploring the numerical features"
   ]
  },
  {
   "cell_type": "code",
   "execution_count": 11,
   "id": "d59ac7c8",
   "metadata": {},
   "outputs": [],
   "source": [
    "# While doing uni-variate analysis of numerical variables we want to study their central tendency\n",
    "# and dispersion.\n",
    "# Let us write a function that will help us create boxplot and histogram for any input numerical\n",
    "# variable.\n",
    "# This function takes the numerical column as the input and returns the boxplots\n",
    "# and histograms for the variable.\n",
    "\n",
    "def histogram_boxplot(feature, figsize=(15, 10), bins=None):\n",
    "    \"\"\"Boxplot and histogram combined\n",
    "    feature: 1-d feature array\n",
    "    figsize: size of fig (default (9,8))\n",
    "    bins: number of bins (default None / auto)\n",
    "    \"\"\"\n",
    "    f2, (ax_box2, ax_hist2) = plt.subplots(\n",
    "        nrows=2,  # Number of rows of the subplot grid= 2\n",
    "        sharex=True,  # x-axis will be shared among all subplots\n",
    "        gridspec_kw={\"height_ratios\": (0.25, 0.75)},\n",
    "        figsize=figsize,\n",
    "    )  # creating the 2 subplots\n",
    "    sns.boxplot(\n",
    "        feature, ax=ax_box2, showmeans=True, color=\"violet\"\n",
    "    )  # boxplot will be created and a star will indicate the mean value of the column\n",
    "    sns.distplot(\n",
    "        feature, kde=F, ax=ax_hist2, bins=bins, palette=\"winter\"\n",
    "    ) if bins else sns.distplot(\n",
    "        feature, kde=False, ax=ax_hist2\n",
    "    )  # For histogram\n",
    "    ax_hist2.axvline(\n",
    "        np.mean(feature), color=\"green\", linestyle=\"--\"\n",
    "    )  # Add mean to the histogram\n",
    "    ax_hist2.axvline(\n",
    "        np.median(feature), color=\"black\", linestyle=\"-\"\n",
    "    )  # Add median to the histogram"
   ]
  },
  {
   "cell_type": "code",
   "execution_count": 12,
   "id": "0658d714",
   "metadata": {},
   "outputs": [
    {
     "data": {
      "image/png": "[encoded data removed]",
      "text/plain": [
       "<Figure size 1080x720 with 2 Axes>"
      ]
     },
     "metadata": {
      "needs_background": "light"
     },
     "output_type": "display_data"
    }
   ],
   "source": [
    "# Observations on age\n",
    "histogram_boxplot(train_data[\"age\"])\n",
    "plt.savefig(\"images/age.png\")"
   ]
  },
  {
   "cell_type": "markdown",
   "id": "440de843",
   "metadata": {},
   "source": [
    "- The data is right skewed to see extreme outliers.\n",
    "- undeserved age category to be less than 20 years or age older than 60."
   ]
  },
  {
   "cell_type": "code",
   "execution_count": 13,
   "id": "bb7830d8",
   "metadata": {},
   "outputs": [
    {
     "data": {
      "image/png": "[encoded data removed]",
      "text/plain": [
       "<Figure size 1080x720 with 2 Axes>"
      ]
     },
     "metadata": {
      "needs_background": "light"
     },
     "output_type": "display_data"
    }
   ],
   "source": [
    "histogram_boxplot(train_data[\"duration\"])\n",
    "plt.savefig(\"images/duration.png\")"
   ]
  },
  {
   "cell_type": "markdown",
   "id": "7765d1a6",
   "metadata": {},
   "source": [
    "* The duration seems to the right skewed with ouliers.\n",
    "* The mean duration for a call is 180 mins."
   ]
  },
  {
   "cell_type": "code",
   "execution_count": 14,
   "id": "ba3ad484",
   "metadata": {},
   "outputs": [
    {
     "data": {
      "image/png": "[encoded data removed]",
      "text/plain": [
       "<Figure size 1080x720 with 2 Axes>"
      ]
     },
     "metadata": {
      "needs_background": "light"
     },
     "output_type": "display_data"
    }
   ],
   "source": [
    "histogram_boxplot(train_data[\"campaign\"])"
   ]
  },
  {
   "cell_type": "markdown",
   "id": "91e0c236",
   "metadata": {},
   "source": [
    "#### Exploring the categorical features in terms of dependent variable."
   ]
  },
  {
   "cell_type": "code",
   "execution_count": 15,
   "id": "2ca963b1",
   "metadata": {},
   "outputs": [],
   "source": [
    "#Exploring the features with dependent variable,\n",
    "\n",
    "def feature_depend(df, feature):\n",
    "    #df[feature] = df[feature].astype(\"category\")\n",
    "    sns.countplot(x=feature, data=df, order=df[feature].value_counts().index)\n",
    "    plt.title(\"{} versus client subsribed for term deposit\".format(feature))\n",
    "    plt.xlabel(feature)\n",
    "    plt.ylabel(\"Number of client\")\n",
    "    plt.xticks(rotation=45)\n",
    "    "
   ]
  },
  {
   "cell_type": "code",
   "execution_count": 16,
   "id": "cc1f74dd",
   "metadata": {},
   "outputs": [
    {
     "data": {
      "image/png": "[encoded data removed]",
      "text/plain": [
       "<Figure size 1008x2520 with 8 Axes>"
      ]
     },
     "metadata": {
      "needs_background": "light"
     },
     "output_type": "display_data"
    }
   ],
   "source": [
    "cat_column = ['marital', 'education', 'month','day_of_week', 'housing','loan','contact', 'default']\n",
    "i=4\n",
    "j=2\n",
    "k=1\n",
    "plt.figure(figsize=(14,35))\n",
    "for feature in cat_column:\n",
    "    plt.subplot(i, j, k)\n",
    "    k=k+1\n",
    "    feature_depend(data_sub, feature) \n",
    "    plt.savefig(\"images/\"+feature+\".png\")"
   ]
  },
  {
   "cell_type": "markdown",
   "id": "d7c2dfde",
   "metadata": {},
   "source": [
    "- The pattern from each category who all agreed to term deposits are, married people, people with university degree, who having housing loans, mostly who have been called in the middle of the week days, mostly in May, July and August.\n",
    "- There is an additional category called \"unknown\" in most of the features which can be missing values that need to be addressed."
   ]
  },
  {
   "cell_type": "code",
   "execution_count": 17,
   "id": "e235ec33",
   "metadata": {},
   "outputs": [
    {
     "data": {
      "image/png": "[encoded data removed]",
      "text/plain": [
       "<Figure size 900x900 with 30 Axes>"
      ]
     },
     "metadata": {
      "needs_background": "light"
     },
     "output_type": "display_data"
    }
   ],
   "source": [
    "sns.pairplot(data_sub)\n",
    "plt.savefig(\"images/pairplot.png\")"
   ]
  },
  {
   "cell_type": "markdown",
   "id": "3806d339",
   "metadata": {},
   "source": [
    "From pairplot, it shows that the duration and the campaign mostly focused on younger people and skewed down as the age goes up, as per the data description values (pdays=999) means was not contacted before - Ignoring that, whomever was contacted was done with in the last 30 days. In most cases the number of times contacted before a campaign was < 6 times."
   ]
  },
  {
   "cell_type": "code",
   "execution_count": 18,
   "id": "a6478dfd",
   "metadata": {},
   "outputs": [
    {
     "data": {
      "image/png": "[encoded data removed]",
      "text/plain": [
       "<Figure size 1008x432 with 2 Axes>"
      ]
     },
     "metadata": {
      "needs_background": "light"
     },
     "output_type": "display_data"
    }
   ],
   "source": [
    "corrmat = data_sub.corr()\n",
    "corr_index =corrmat.index\n",
    "plt.figure(figsize=(14,6))\n",
    "ax=sns.heatmap(data_sub[corr_index].corr(), annot=True, cmap='Blues')\n",
    "plt.savefig(\"images/corr.png\")"
   ]
  },
  {
   "cell_type": "markdown",
   "id": "185621e1",
   "metadata": {},
   "source": [
    "#### Converting the object type to category"
   ]
  },
  {
   "cell_type": "code",
   "execution_count": 19,
   "id": "a43f6e84",
   "metadata": {},
   "outputs": [
    {
     "name": "stdout",
     "output_type": "stream",
     "text": [
      "<class 'pandas.core.frame.DataFrame'>\n",
      "Int64Index: 32942 entries, 0 to 32949\n",
      "Data columns (total 16 columns):\n",
      " #   Column       Non-Null Count  Dtype   \n",
      "---  ------       --------------  -----   \n",
      " 0   age          32942 non-null  int64   \n",
      " 1   job          32942 non-null  category\n",
      " 2   marital      32942 non-null  category\n",
      " 3   education    32942 non-null  category\n",
      " 4   default      32942 non-null  category\n",
      " 5   housing      32942 non-null  category\n",
      " 6   loan         32942 non-null  category\n",
      " 7   contact      32942 non-null  category\n",
      " 8   month        32942 non-null  category\n",
      " 9   day_of_week  32942 non-null  category\n",
      " 10  duration     32942 non-null  int64   \n",
      " 11  campaign     32942 non-null  int64   \n",
      " 12  pdays        32942 non-null  int64   \n",
      " 13  previous     32942 non-null  int64   \n",
      " 14  poutcome     32942 non-null  category\n",
      " 15  y            32942 non-null  category\n",
      "dtypes: category(11), int64(5)\n",
      "memory usage: 1.9 MB\n"
     ]
    }
   ],
   "source": [
    "catobj_column = [\n",
    "    'job',\n",
    "    'marital', \n",
    "    'education', \n",
    "    'month',\n",
    "    'day_of_week', \n",
    "    'housing',\n",
    "    'loan',\n",
    "    'contact', \n",
    "    'default',\n",
    "    'poutcome',\n",
    "    'y']\n",
    "for column in catobj_column:\n",
    "    train_data[column]=train_data[column].astype('category')\n",
    "train_data.info()    "
   ]
  },
  {
   "cell_type": "code",
   "execution_count": 20,
   "id": "de9ddc54",
   "metadata": {},
   "outputs": [
    {
     "name": "stdout",
     "output_type": "stream",
     "text": [
      "married     19947\n",
      "single       9256\n",
      "divorced     3674\n",
      "unknown        65\n",
      "Name: marital, dtype: int64\n",
      "******************************\n",
      "university.degree      9733\n",
      "high.school            7594\n",
      "basic.9y               4826\n",
      "professional.course    4191\n",
      "basic.4y               3322\n",
      "basic.6y               1864\n",
      "unknown                1396\n",
      "illiterate               16\n",
      "Name: education, dtype: int64\n",
      "******************************\n",
      "may    11009\n",
      "jul     5761\n",
      "aug     4946\n",
      "jun     4247\n",
      "nov     3265\n",
      "apr     2085\n",
      "oct      586\n",
      "sep      464\n",
      "mar      436\n",
      "dec      143\n",
      "Name: month, dtype: int64\n",
      "******************************\n",
      "thu    6854\n",
      "mon    6811\n",
      "wed    6515\n",
      "tue    6441\n",
      "fri    6321\n",
      "Name: day_of_week, dtype: int64\n",
      "******************************\n",
      "yes        17251\n",
      "no         14895\n",
      "unknown      796\n",
      "Name: housing, dtype: int64\n",
      "******************************\n",
      "no         27123\n",
      "yes         5023\n",
      "unknown      796\n",
      "Name: loan, dtype: int64\n",
      "******************************\n",
      "cellular     20903\n",
      "telephone    12039\n",
      "Name: contact, dtype: int64\n",
      "******************************\n",
      "no         26000\n",
      "unknown     6939\n",
      "yes            3\n",
      "Name: default, dtype: int64\n",
      "******************************\n",
      "nonexistent    28408\n",
      "failure         3429\n",
      "success         1105\n",
      "Name: poutcome, dtype: int64\n",
      "******************************\n",
      "no     29230\n",
      "yes     3712\n",
      "Name: y, dtype: int64\n",
      "******************************\n"
     ]
    }
   ],
   "source": [
    "# Looking for each of unique category in every categorical features\n",
    "cat_column = [\n",
    "    'marital', \n",
    "    'education', \n",
    "    'month',\n",
    "    'day_of_week', \n",
    "    'housing',\n",
    "    'loan',\n",
    "    'contact', \n",
    "    'default',\n",
    "    'poutcome',\n",
    "    'y']\n",
    "for column in cat_column:\n",
    "    print(train_data[column].value_counts())\n",
    "    print('*'*30)"
   ]
  },
  {
   "cell_type": "markdown",
   "id": "34d68f8a",
   "metadata": {},
   "source": [
    "From the above listed categorical variables it shows that five of the features have a unique category type \"unknown\" as noticed in visualization. Replacing \"unknown\" to \"Nan\", so to handle those \"unknown\" as missing values."
   ]
  },
  {
   "cell_type": "code",
   "execution_count": 21,
   "id": "eb81f76a",
   "metadata": {},
   "outputs": [],
   "source": [
    "#Replaced the value 'unknown' to NAN for data cleaning.\n",
    "train_data.replace({'unknown':np.nan}, inplace=True)"
   ]
  },
  {
   "cell_type": "code",
   "execution_count": 22,
   "id": "a4b96006",
   "metadata": {},
   "outputs": [
    {
     "data": {
      "text/plain": [
       "age               0\n",
       "job             265\n",
       "marital          65\n",
       "education      1396\n",
       "default        6939\n",
       "housing         796\n",
       "loan            796\n",
       "contact           0\n",
       "month             0\n",
       "day_of_week       0\n",
       "duration          0\n",
       "campaign          0\n",
       "pdays             0\n",
       "previous          0\n",
       "poutcome          0\n",
       "y                 0\n",
       "dtype: int64"
      ]
     },
     "execution_count": 22,
     "metadata": {},
     "output_type": "execute_result"
    }
   ],
   "source": [
    "train_data.isna().sum()"
   ]
  },
  {
   "cell_type": "code",
   "execution_count": 23,
   "id": "10c0381d",
   "metadata": {},
   "outputs": [
    {
     "name": "stdout",
     "output_type": "stream",
     "text": [
      "no     26000\n",
      "yes        3\n",
      "Name: default, dtype: int64\n"
     ]
    }
   ],
   "source": [
    "# Based on frquency, checking the value count for \"Default\" variable - this is if the cilent have credit or not. \n",
    "print(train_data['default'].value_counts())\n",
    "train_data.drop('default', axis=1, inplace=True)"
   ]
  },
  {
   "cell_type": "markdown",
   "id": "b6c3ce38",
   "metadata": {},
   "source": [
    "Since the default variable is highly imbalance and with high number of null values, will drop that column"
   ]
  },
  {
   "cell_type": "code",
   "execution_count": 24,
   "id": "932c4aeb",
   "metadata": {},
   "outputs": [],
   "source": [
    "# These are the data \"MISSING AT RANDOM\" - cilent refused to answer their loan information -Which is around 795 out of \n",
    "# approx 33000 thats is around 2.4% of the data - decided to drop thoses rows with nulls, but the data usually \n",
    "# have a relationship with the target variables, so impute with mean/median/mode imputation."
   ]
  },
  {
   "cell_type": "markdown",
   "id": "d07a3246",
   "metadata": {},
   "source": [
    "### Impute the missing values with mode"
   ]
  },
  {
   "cell_type": "code",
   "execution_count": 25,
   "id": "beb5fb72",
   "metadata": {},
   "outputs": [],
   "source": [
    "def impute_cat_mode(df, variable):\n",
    "    most_freq_cat=df[variable].mode()[0]\n",
    "    df[variable].fillna(most_freq_cat, inplace=True)\n",
    "    "
   ]
  },
  {
   "cell_type": "code",
   "execution_count": 26,
   "id": "bfb62a77",
   "metadata": {},
   "outputs": [],
   "source": [
    "impute_cols= train_data[['job', 'marital', 'education', 'housing', 'loan']]\n",
    "for col in impute_cols:\n",
    "    impute_cat_mode(train_data, col)    "
   ]
  },
  {
   "cell_type": "code",
   "execution_count": 27,
   "id": "14ebd0b0",
   "metadata": {},
   "outputs": [
    {
     "data": {
      "text/plain": [
       "age            0\n",
       "job            0\n",
       "marital        0\n",
       "education      0\n",
       "housing        0\n",
       "loan           0\n",
       "contact        0\n",
       "month          0\n",
       "day_of_week    0\n",
       "duration       0\n",
       "campaign       0\n",
       "pdays          0\n",
       "previous       0\n",
       "poutcome       0\n",
       "y              0\n",
       "dtype: int64"
      ]
     },
     "execution_count": 27,
     "metadata": {},
     "output_type": "execute_result"
    }
   ],
   "source": [
    "train_data.isna().sum()"
   ]
  },
  {
   "cell_type": "markdown",
   "id": "9fb9e46c",
   "metadata": {},
   "source": [
    "### Feature Engineering"
   ]
  },
  {
   "cell_type": "code",
   "execution_count": 28,
   "id": "3fb24bc1",
   "metadata": {},
   "outputs": [],
   "source": [
    "#Label Encoding - Months, Weekdays, \n",
    "month_dict={'dec':0, 'sep':1,'mar':2, 'oct':3, 'nov':4, 'apr':5, 'jun':6, 'aug':7, 'jul':8, 'may':9}\n",
    "day_of_week_dict={'fri':0, 'mon':1, 'tue':2, 'wed':3, 'thu':4}\n",
    "poutcome_dict={'failure':0, 'nonexistent':1, 'success':2}"
   ]
  },
  {
   "cell_type": "code",
   "execution_count": 29,
   "id": "9d5b2dc9",
   "metadata": {},
   "outputs": [],
   "source": [
    "train_data['month_ordinal']=train_data['month'].map(month_dict)\n",
    "train_data['weekday_ordinal']=train_data['day_of_week'].map(day_of_week_dict)\n",
    "train_data['poutcome_ordinal']=train_data['poutcome'].map(poutcome_dict)"
   ]
  },
  {
   "cell_type": "code",
   "execution_count": 30,
   "id": "ec4cae7b",
   "metadata": {},
   "outputs": [],
   "source": [
    "train_data['pdays'].replace({999: 0}, inplace=True)"
   ]
  },
  {
   "cell_type": "code",
   "execution_count": 31,
   "id": "44ed0791",
   "metadata": {},
   "outputs": [
    {
     "data": {
      "text/html": [
       "<div>\n",
       "<style scoped>\n",
       "    .dataframe tbody tr th:only-of-type {\n",
       "        vertical-align: middle;\n",
       "    }\n",
       "\n",
       "    .dataframe tbody tr th {\n",
       "        vertical-align: top;\n",
       "    }\n",
       "\n",
       "    .dataframe thead th {\n",
       "        text-align: right;\n",
       "    }\n",
       "</style>\n",
       "<table border=\"1\" class=\"dataframe\">\n",
       "  <thead>\n",
       "    <tr style=\"text-align: right;\">\n",
       "      <th></th>\n",
       "      <th>age</th>\n",
       "      <th>job</th>\n",
       "      <th>marital</th>\n",
       "      <th>education</th>\n",
       "      <th>housing</th>\n",
       "      <th>loan</th>\n",
       "      <th>contact</th>\n",
       "      <th>month</th>\n",
       "      <th>day_of_week</th>\n",
       "      <th>duration</th>\n",
       "      <th>campaign</th>\n",
       "      <th>pdays</th>\n",
       "      <th>previous</th>\n",
       "      <th>poutcome</th>\n",
       "      <th>y</th>\n",
       "      <th>month_ordinal</th>\n",
       "      <th>weekday_ordinal</th>\n",
       "      <th>poutcome_ordinal</th>\n",
       "    </tr>\n",
       "  </thead>\n",
       "  <tbody>\n",
       "    <tr>\n",
       "      <th>0</th>\n",
       "      <td>49</td>\n",
       "      <td>blue-collar</td>\n",
       "      <td>married</td>\n",
       "      <td>basic.9y</td>\n",
       "      <td>no</td>\n",
       "      <td>no</td>\n",
       "      <td>cellular</td>\n",
       "      <td>nov</td>\n",
       "      <td>wed</td>\n",
       "      <td>227</td>\n",
       "      <td>4</td>\n",
       "      <td>0</td>\n",
       "      <td>0</td>\n",
       "      <td>nonexistent</td>\n",
       "      <td>no</td>\n",
       "      <td>4</td>\n",
       "      <td>3</td>\n",
       "      <td>1</td>\n",
       "    </tr>\n",
       "    <tr>\n",
       "      <th>1</th>\n",
       "      <td>37</td>\n",
       "      <td>entrepreneur</td>\n",
       "      <td>married</td>\n",
       "      <td>university.degree</td>\n",
       "      <td>no</td>\n",
       "      <td>no</td>\n",
       "      <td>telephone</td>\n",
       "      <td>nov</td>\n",
       "      <td>wed</td>\n",
       "      <td>202</td>\n",
       "      <td>2</td>\n",
       "      <td>0</td>\n",
       "      <td>1</td>\n",
       "      <td>failure</td>\n",
       "      <td>no</td>\n",
       "      <td>4</td>\n",
       "      <td>3</td>\n",
       "      <td>0</td>\n",
       "    </tr>\n",
       "    <tr>\n",
       "      <th>2</th>\n",
       "      <td>78</td>\n",
       "      <td>retired</td>\n",
       "      <td>married</td>\n",
       "      <td>basic.4y</td>\n",
       "      <td>no</td>\n",
       "      <td>no</td>\n",
       "      <td>cellular</td>\n",
       "      <td>jul</td>\n",
       "      <td>mon</td>\n",
       "      <td>1148</td>\n",
       "      <td>1</td>\n",
       "      <td>0</td>\n",
       "      <td>0</td>\n",
       "      <td>nonexistent</td>\n",
       "      <td>yes</td>\n",
       "      <td>8</td>\n",
       "      <td>1</td>\n",
       "      <td>1</td>\n",
       "    </tr>\n",
       "    <tr>\n",
       "      <th>3</th>\n",
       "      <td>36</td>\n",
       "      <td>admin.</td>\n",
       "      <td>married</td>\n",
       "      <td>university.degree</td>\n",
       "      <td>yes</td>\n",
       "      <td>no</td>\n",
       "      <td>telephone</td>\n",
       "      <td>may</td>\n",
       "      <td>mon</td>\n",
       "      <td>120</td>\n",
       "      <td>2</td>\n",
       "      <td>0</td>\n",
       "      <td>0</td>\n",
       "      <td>nonexistent</td>\n",
       "      <td>no</td>\n",
       "      <td>9</td>\n",
       "      <td>1</td>\n",
       "      <td>1</td>\n",
       "    </tr>\n",
       "    <tr>\n",
       "      <th>4</th>\n",
       "      <td>59</td>\n",
       "      <td>retired</td>\n",
       "      <td>divorced</td>\n",
       "      <td>university.degree</td>\n",
       "      <td>no</td>\n",
       "      <td>no</td>\n",
       "      <td>cellular</td>\n",
       "      <td>jun</td>\n",
       "      <td>tue</td>\n",
       "      <td>368</td>\n",
       "      <td>2</td>\n",
       "      <td>0</td>\n",
       "      <td>0</td>\n",
       "      <td>nonexistent</td>\n",
       "      <td>no</td>\n",
       "      <td>6</td>\n",
       "      <td>2</td>\n",
       "      <td>1</td>\n",
       "    </tr>\n",
       "  </tbody>\n",
       "</table>\n",
       "</div>"
      ],
      "text/plain": [
       "   age           job   marital          education housing loan    contact  \\\n",
       "0   49   blue-collar   married           basic.9y      no   no   cellular   \n",
       "1   37  entrepreneur   married  university.degree      no   no  telephone   \n",
       "2   78       retired   married           basic.4y      no   no   cellular   \n",
       "3   36        admin.   married  university.degree     yes   no  telephone   \n",
       "4   59       retired  divorced  university.degree      no   no   cellular   \n",
       "\n",
       "  month day_of_week  duration  campaign  pdays  previous     poutcome    y  \\\n",
       "0   nov         wed       227         4      0         0  nonexistent   no   \n",
       "1   nov         wed       202         2      0         1      failure   no   \n",
       "2   jul         mon      1148         1      0         0  nonexistent  yes   \n",
       "3   may         mon       120         2      0         0  nonexistent   no   \n",
       "4   jun         tue       368         2      0         0  nonexistent   no   \n",
       "\n",
       "  month_ordinal weekday_ordinal poutcome_ordinal  \n",
       "0             4               3                1  \n",
       "1             4               3                0  \n",
       "2             8               1                1  \n",
       "3             9               1                1  \n",
       "4             6               2                1  "
      ]
     },
     "execution_count": 31,
     "metadata": {},
     "output_type": "execute_result"
    }
   ],
   "source": [
    "train_data.head()"
   ]
  },
  {
   "cell_type": "code",
   "execution_count": 32,
   "id": "6cfcf07b",
   "metadata": {},
   "outputs": [
    {
     "data": {
      "text/html": [
       "<div>\n",
       "<style scoped>\n",
       "    .dataframe tbody tr th:only-of-type {\n",
       "        vertical-align: middle;\n",
       "    }\n",
       "\n",
       "    .dataframe tbody tr th {\n",
       "        vertical-align: top;\n",
       "    }\n",
       "\n",
       "    .dataframe thead th {\n",
       "        text-align: right;\n",
       "    }\n",
       "</style>\n",
       "<table border=\"1\" class=\"dataframe\">\n",
       "  <thead>\n",
       "    <tr style=\"text-align: right;\">\n",
       "      <th></th>\n",
       "      <th>age</th>\n",
       "      <th>job</th>\n",
       "      <th>marital</th>\n",
       "      <th>education</th>\n",
       "      <th>housing</th>\n",
       "      <th>loan</th>\n",
       "      <th>contact</th>\n",
       "      <th>month</th>\n",
       "      <th>day_of_week</th>\n",
       "      <th>duration</th>\n",
       "      <th>campaign</th>\n",
       "      <th>pdays</th>\n",
       "      <th>previous</th>\n",
       "      <th>poutcome</th>\n",
       "      <th>y</th>\n",
       "      <th>month_ordinal</th>\n",
       "      <th>weekday_ordinal</th>\n",
       "      <th>poutcome_ordinal</th>\n",
       "      <th>job_encoding</th>\n",
       "      <th>education_encoding</th>\n",
       "    </tr>\n",
       "  </thead>\n",
       "  <tbody>\n",
       "    <tr>\n",
       "      <th>0</th>\n",
       "      <td>49</td>\n",
       "      <td>blue-collar</td>\n",
       "      <td>married</td>\n",
       "      <td>basic.9y</td>\n",
       "      <td>no</td>\n",
       "      <td>no</td>\n",
       "      <td>cellular</td>\n",
       "      <td>nov</td>\n",
       "      <td>wed</td>\n",
       "      <td>227</td>\n",
       "      <td>4</td>\n",
       "      <td>0</td>\n",
       "      <td>0</td>\n",
       "      <td>nonexistent</td>\n",
       "      <td>no</td>\n",
       "      <td>4</td>\n",
       "      <td>3</td>\n",
       "      <td>1</td>\n",
       "      <td>1</td>\n",
       "      <td>2</td>\n",
       "    </tr>\n",
       "    <tr>\n",
       "      <th>1</th>\n",
       "      <td>37</td>\n",
       "      <td>entrepreneur</td>\n",
       "      <td>married</td>\n",
       "      <td>university.degree</td>\n",
       "      <td>no</td>\n",
       "      <td>no</td>\n",
       "      <td>telephone</td>\n",
       "      <td>nov</td>\n",
       "      <td>wed</td>\n",
       "      <td>202</td>\n",
       "      <td>2</td>\n",
       "      <td>0</td>\n",
       "      <td>1</td>\n",
       "      <td>failure</td>\n",
       "      <td>no</td>\n",
       "      <td>4</td>\n",
       "      <td>3</td>\n",
       "      <td>0</td>\n",
       "      <td>2</td>\n",
       "      <td>6</td>\n",
       "    </tr>\n",
       "    <tr>\n",
       "      <th>2</th>\n",
       "      <td>78</td>\n",
       "      <td>retired</td>\n",
       "      <td>married</td>\n",
       "      <td>basic.4y</td>\n",
       "      <td>no</td>\n",
       "      <td>no</td>\n",
       "      <td>cellular</td>\n",
       "      <td>jul</td>\n",
       "      <td>mon</td>\n",
       "      <td>1148</td>\n",
       "      <td>1</td>\n",
       "      <td>0</td>\n",
       "      <td>0</td>\n",
       "      <td>nonexistent</td>\n",
       "      <td>yes</td>\n",
       "      <td>8</td>\n",
       "      <td>1</td>\n",
       "      <td>1</td>\n",
       "      <td>5</td>\n",
       "      <td>0</td>\n",
       "    </tr>\n",
       "    <tr>\n",
       "      <th>3</th>\n",
       "      <td>36</td>\n",
       "      <td>admin.</td>\n",
       "      <td>married</td>\n",
       "      <td>university.degree</td>\n",
       "      <td>yes</td>\n",
       "      <td>no</td>\n",
       "      <td>telephone</td>\n",
       "      <td>may</td>\n",
       "      <td>mon</td>\n",
       "      <td>120</td>\n",
       "      <td>2</td>\n",
       "      <td>0</td>\n",
       "      <td>0</td>\n",
       "      <td>nonexistent</td>\n",
       "      <td>no</td>\n",
       "      <td>9</td>\n",
       "      <td>1</td>\n",
       "      <td>1</td>\n",
       "      <td>0</td>\n",
       "      <td>6</td>\n",
       "    </tr>\n",
       "    <tr>\n",
       "      <th>4</th>\n",
       "      <td>59</td>\n",
       "      <td>retired</td>\n",
       "      <td>divorced</td>\n",
       "      <td>university.degree</td>\n",
       "      <td>no</td>\n",
       "      <td>no</td>\n",
       "      <td>cellular</td>\n",
       "      <td>jun</td>\n",
       "      <td>tue</td>\n",
       "      <td>368</td>\n",
       "      <td>2</td>\n",
       "      <td>0</td>\n",
       "      <td>0</td>\n",
       "      <td>nonexistent</td>\n",
       "      <td>no</td>\n",
       "      <td>6</td>\n",
       "      <td>2</td>\n",
       "      <td>1</td>\n",
       "      <td>5</td>\n",
       "      <td>6</td>\n",
       "    </tr>\n",
       "  </tbody>\n",
       "</table>\n",
       "</div>"
      ],
      "text/plain": [
       "   age           job   marital          education housing loan    contact  \\\n",
       "0   49   blue-collar   married           basic.9y      no   no   cellular   \n",
       "1   37  entrepreneur   married  university.degree      no   no  telephone   \n",
       "2   78       retired   married           basic.4y      no   no   cellular   \n",
       "3   36        admin.   married  university.degree     yes   no  telephone   \n",
       "4   59       retired  divorced  university.degree      no   no   cellular   \n",
       "\n",
       "  month day_of_week  duration  campaign  pdays  previous     poutcome    y  \\\n",
       "0   nov         wed       227         4      0         0  nonexistent   no   \n",
       "1   nov         wed       202         2      0         1      failure   no   \n",
       "2   jul         mon      1148         1      0         0  nonexistent  yes   \n",
       "3   may         mon       120         2      0         0  nonexistent   no   \n",
       "4   jun         tue       368         2      0         0  nonexistent   no   \n",
       "\n",
       "  month_ordinal weekday_ordinal poutcome_ordinal  job_encoding  \\\n",
       "0             4               3                1             1   \n",
       "1             4               3                0             2   \n",
       "2             8               1                1             5   \n",
       "3             9               1                1             0   \n",
       "4             6               2                1             5   \n",
       "\n",
       "   education_encoding  \n",
       "0                   2  \n",
       "1                   6  \n",
       "2                   0  \n",
       "3                   6  \n",
       "4                   6  "
      ]
     },
     "execution_count": 32,
     "metadata": {},
     "output_type": "execute_result"
    }
   ],
   "source": [
    "from sklearn.preprocessing import LabelEncoder\n",
    "labelencoder=LabelEncoder()\n",
    "train_data['job_encoding']=labelencoder.fit_transform(train_data['job'])\n",
    "train_data['education_encoding']=labelencoder.fit_transform(train_data['education'])\n",
    "train_data.head()"
   ]
  },
  {
   "cell_type": "code",
   "execution_count": 33,
   "id": "458dc56e",
   "metadata": {},
   "outputs": [
    {
     "name": "stdout",
     "output_type": "stream",
     "text": [
      "<class 'pandas.core.frame.DataFrame'>\n",
      "Int64Index: 32942 entries, 0 to 32949\n",
      "Data columns (total 20 columns):\n",
      " #   Column              Non-Null Count  Dtype   \n",
      "---  ------              --------------  -----   \n",
      " 0   age                 32942 non-null  int64   \n",
      " 1   job                 32942 non-null  category\n",
      " 2   marital             32942 non-null  category\n",
      " 3   education           32942 non-null  category\n",
      " 4   housing             32942 non-null  category\n",
      " 5   loan                32942 non-null  category\n",
      " 6   contact             32942 non-null  category\n",
      " 7   month               32942 non-null  category\n",
      " 8   day_of_week         32942 non-null  category\n",
      " 9   duration            32942 non-null  int64   \n",
      " 10  campaign            32942 non-null  int64   \n",
      " 11  pdays               32942 non-null  int64   \n",
      " 12  previous            32942 non-null  int64   \n",
      " 13  poutcome            32942 non-null  category\n",
      " 14  y                   32942 non-null  category\n",
      " 15  month_ordinal       32942 non-null  category\n",
      " 16  weekday_ordinal     32942 non-null  category\n",
      " 17  poutcome_ordinal    32942 non-null  category\n",
      " 18  job_encoding        32942 non-null  int32   \n",
      " 19  education_encoding  32942 non-null  int32   \n",
      "dtypes: category(13), int32(2), int64(5)\n",
      "memory usage: 2.2 MB\n"
     ]
    }
   ],
   "source": [
    "train_data.info()"
   ]
  },
  {
   "cell_type": "code",
   "execution_count": 34,
   "id": "f5b42598",
   "metadata": {},
   "outputs": [
    {
     "data": {
      "text/html": [
       "<div>\n",
       "<style scoped>\n",
       "    .dataframe tbody tr th:only-of-type {\n",
       "        vertical-align: middle;\n",
       "    }\n",
       "\n",
       "    .dataframe tbody tr th {\n",
       "        vertical-align: top;\n",
       "    }\n",
       "\n",
       "    .dataframe thead th {\n",
       "        text-align: right;\n",
       "    }\n",
       "</style>\n",
       "<table border=\"1\" class=\"dataframe\">\n",
       "  <thead>\n",
       "    <tr style=\"text-align: right;\">\n",
       "      <th></th>\n",
       "      <th>marital_married</th>\n",
       "      <th>marital_single</th>\n",
       "      <th>housing_yes</th>\n",
       "      <th>loan_yes</th>\n",
       "      <th>contact_telephone</th>\n",
       "      <th>poutcome_nonexistent</th>\n",
       "      <th>poutcome_success</th>\n",
       "    </tr>\n",
       "  </thead>\n",
       "  <tbody>\n",
       "    <tr>\n",
       "      <th>0</th>\n",
       "      <td>1</td>\n",
       "      <td>0</td>\n",
       "      <td>0</td>\n",
       "      <td>0</td>\n",
       "      <td>0</td>\n",
       "      <td>1</td>\n",
       "      <td>0</td>\n",
       "    </tr>\n",
       "    <tr>\n",
       "      <th>1</th>\n",
       "      <td>1</td>\n",
       "      <td>0</td>\n",
       "      <td>0</td>\n",
       "      <td>0</td>\n",
       "      <td>1</td>\n",
       "      <td>0</td>\n",
       "      <td>0</td>\n",
       "    </tr>\n",
       "    <tr>\n",
       "      <th>2</th>\n",
       "      <td>1</td>\n",
       "      <td>0</td>\n",
       "      <td>0</td>\n",
       "      <td>0</td>\n",
       "      <td>0</td>\n",
       "      <td>1</td>\n",
       "      <td>0</td>\n",
       "    </tr>\n",
       "    <tr>\n",
       "      <th>3</th>\n",
       "      <td>1</td>\n",
       "      <td>0</td>\n",
       "      <td>1</td>\n",
       "      <td>0</td>\n",
       "      <td>1</td>\n",
       "      <td>1</td>\n",
       "      <td>0</td>\n",
       "    </tr>\n",
       "    <tr>\n",
       "      <th>4</th>\n",
       "      <td>0</td>\n",
       "      <td>0</td>\n",
       "      <td>0</td>\n",
       "      <td>0</td>\n",
       "      <td>0</td>\n",
       "      <td>1</td>\n",
       "      <td>0</td>\n",
       "    </tr>\n",
       "  </tbody>\n",
       "</table>\n",
       "</div>"
      ],
      "text/plain": [
       "   marital_married  marital_single  housing_yes  loan_yes  contact_telephone  \\\n",
       "0                1               0            0         0                  0   \n",
       "1                1               0            0         0                  1   \n",
       "2                1               0            0         0                  0   \n",
       "3                1               0            1         0                  1   \n",
       "4                0               0            0         0                  0   \n",
       "\n",
       "   poutcome_nonexistent  poutcome_success  \n",
       "0                     1                 0  \n",
       "1                     0                 0  \n",
       "2                     1                 0  \n",
       "3                     1                 0  \n",
       "4                     1                 0  "
      ]
     },
     "execution_count": 34,
     "metadata": {},
     "output_type": "execute_result"
    }
   ],
   "source": [
    "one_hot_cols=['marital','housing','loan','contact','poutcome']\n",
    "train_data_dum = pd.get_dummies(train_data[one_hot_cols], drop_first=True)\n",
    "train_data_dum.head()"
   ]
  },
  {
   "cell_type": "code",
   "execution_count": 35,
   "id": "7b1875b8",
   "metadata": {},
   "outputs": [
    {
     "data": {
      "text/html": [
       "<div>\n",
       "<style scoped>\n",
       "    .dataframe tbody tr th:only-of-type {\n",
       "        vertical-align: middle;\n",
       "    }\n",
       "\n",
       "    .dataframe tbody tr th {\n",
       "        vertical-align: top;\n",
       "    }\n",
       "\n",
       "    .dataframe thead th {\n",
       "        text-align: right;\n",
       "    }\n",
       "</style>\n",
       "<table border=\"1\" class=\"dataframe\">\n",
       "  <thead>\n",
       "    <tr style=\"text-align: right;\">\n",
       "      <th></th>\n",
       "      <th>age</th>\n",
       "      <th>job</th>\n",
       "      <th>marital</th>\n",
       "      <th>education</th>\n",
       "      <th>housing</th>\n",
       "      <th>loan</th>\n",
       "      <th>contact</th>\n",
       "      <th>month</th>\n",
       "      <th>day_of_week</th>\n",
       "      <th>duration</th>\n",
       "      <th>campaign</th>\n",
       "      <th>pdays</th>\n",
       "      <th>previous</th>\n",
       "      <th>poutcome</th>\n",
       "      <th>y</th>\n",
       "      <th>month_ordinal</th>\n",
       "      <th>weekday_ordinal</th>\n",
       "      <th>poutcome_ordinal</th>\n",
       "      <th>job_encoding</th>\n",
       "      <th>education_encoding</th>\n",
       "    </tr>\n",
       "  </thead>\n",
       "  <tbody>\n",
       "    <tr>\n",
       "      <th>0</th>\n",
       "      <td>49</td>\n",
       "      <td>blue-collar</td>\n",
       "      <td>married</td>\n",
       "      <td>basic.9y</td>\n",
       "      <td>no</td>\n",
       "      <td>no</td>\n",
       "      <td>cellular</td>\n",
       "      <td>nov</td>\n",
       "      <td>wed</td>\n",
       "      <td>227</td>\n",
       "      <td>4</td>\n",
       "      <td>0</td>\n",
       "      <td>0</td>\n",
       "      <td>nonexistent</td>\n",
       "      <td>no</td>\n",
       "      <td>4</td>\n",
       "      <td>3</td>\n",
       "      <td>1</td>\n",
       "      <td>1</td>\n",
       "      <td>2</td>\n",
       "    </tr>\n",
       "    <tr>\n",
       "      <th>1</th>\n",
       "      <td>37</td>\n",
       "      <td>entrepreneur</td>\n",
       "      <td>married</td>\n",
       "      <td>university.degree</td>\n",
       "      <td>no</td>\n",
       "      <td>no</td>\n",
       "      <td>telephone</td>\n",
       "      <td>nov</td>\n",
       "      <td>wed</td>\n",
       "      <td>202</td>\n",
       "      <td>2</td>\n",
       "      <td>0</td>\n",
       "      <td>1</td>\n",
       "      <td>failure</td>\n",
       "      <td>no</td>\n",
       "      <td>4</td>\n",
       "      <td>3</td>\n",
       "      <td>0</td>\n",
       "      <td>2</td>\n",
       "      <td>6</td>\n",
       "    </tr>\n",
       "    <tr>\n",
       "      <th>2</th>\n",
       "      <td>78</td>\n",
       "      <td>retired</td>\n",
       "      <td>married</td>\n",
       "      <td>basic.4y</td>\n",
       "      <td>no</td>\n",
       "      <td>no</td>\n",
       "      <td>cellular</td>\n",
       "      <td>jul</td>\n",
       "      <td>mon</td>\n",
       "      <td>1148</td>\n",
       "      <td>1</td>\n",
       "      <td>0</td>\n",
       "      <td>0</td>\n",
       "      <td>nonexistent</td>\n",
       "      <td>yes</td>\n",
       "      <td>8</td>\n",
       "      <td>1</td>\n",
       "      <td>1</td>\n",
       "      <td>5</td>\n",
       "      <td>0</td>\n",
       "    </tr>\n",
       "    <tr>\n",
       "      <th>3</th>\n",
       "      <td>36</td>\n",
       "      <td>admin.</td>\n",
       "      <td>married</td>\n",
       "      <td>university.degree</td>\n",
       "      <td>yes</td>\n",
       "      <td>no</td>\n",
       "      <td>telephone</td>\n",
       "      <td>may</td>\n",
       "      <td>mon</td>\n",
       "      <td>120</td>\n",
       "      <td>2</td>\n",
       "      <td>0</td>\n",
       "      <td>0</td>\n",
       "      <td>nonexistent</td>\n",
       "      <td>no</td>\n",
       "      <td>9</td>\n",
       "      <td>1</td>\n",
       "      <td>1</td>\n",
       "      <td>0</td>\n",
       "      <td>6</td>\n",
       "    </tr>\n",
       "    <tr>\n",
       "      <th>4</th>\n",
       "      <td>59</td>\n",
       "      <td>retired</td>\n",
       "      <td>divorced</td>\n",
       "      <td>university.degree</td>\n",
       "      <td>no</td>\n",
       "      <td>no</td>\n",
       "      <td>cellular</td>\n",
       "      <td>jun</td>\n",
       "      <td>tue</td>\n",
       "      <td>368</td>\n",
       "      <td>2</td>\n",
       "      <td>0</td>\n",
       "      <td>0</td>\n",
       "      <td>nonexistent</td>\n",
       "      <td>no</td>\n",
       "      <td>6</td>\n",
       "      <td>2</td>\n",
       "      <td>1</td>\n",
       "      <td>5</td>\n",
       "      <td>6</td>\n",
       "    </tr>\n",
       "  </tbody>\n",
       "</table>\n",
       "</div>"
      ],
      "text/plain": [
       "   age           job   marital          education housing loan    contact  \\\n",
       "0   49   blue-collar   married           basic.9y      no   no   cellular   \n",
       "1   37  entrepreneur   married  university.degree      no   no  telephone   \n",
       "2   78       retired   married           basic.4y      no   no   cellular   \n",
       "3   36        admin.   married  university.degree     yes   no  telephone   \n",
       "4   59       retired  divorced  university.degree      no   no   cellular   \n",
       "\n",
       "  month day_of_week  duration  campaign  pdays  previous     poutcome    y  \\\n",
       "0   nov         wed       227         4      0         0  nonexistent   no   \n",
       "1   nov         wed       202         2      0         1      failure   no   \n",
       "2   jul         mon      1148         1      0         0  nonexistent  yes   \n",
       "3   may         mon       120         2      0         0  nonexistent   no   \n",
       "4   jun         tue       368         2      0         0  nonexistent   no   \n",
       "\n",
       "  month_ordinal weekday_ordinal poutcome_ordinal  job_encoding  \\\n",
       "0             4               3                1             1   \n",
       "1             4               3                0             2   \n",
       "2             8               1                1             5   \n",
       "3             9               1                1             0   \n",
       "4             6               2                1             5   \n",
       "\n",
       "   education_encoding  \n",
       "0                   2  \n",
       "1                   6  \n",
       "2                   0  \n",
       "3                   6  \n",
       "4                   6  "
      ]
     },
     "execution_count": 35,
     "metadata": {},
     "output_type": "execute_result"
    }
   ],
   "source": [
    "train_df = train_data.copy()\n",
    "train_df.head()"
   ]
  },
  {
   "cell_type": "code",
   "execution_count": 36,
   "id": "a56a89fb",
   "metadata": {},
   "outputs": [],
   "source": [
    "cols=['job','marital','housing','loan','contact','poutcome','month', 'day_of_week', 'education']\n",
    "train_df.drop(cols, axis=1, inplace=True)"
   ]
  },
  {
   "cell_type": "code",
   "execution_count": 37,
   "id": "7ecd3254",
   "metadata": {},
   "outputs": [
    {
     "data": {
      "text/html": [
       "<div>\n",
       "<style scoped>\n",
       "    .dataframe tbody tr th:only-of-type {\n",
       "        vertical-align: middle;\n",
       "    }\n",
       "\n",
       "    .dataframe tbody tr th {\n",
       "        vertical-align: top;\n",
       "    }\n",
       "\n",
       "    .dataframe thead th {\n",
       "        text-align: right;\n",
       "    }\n",
       "</style>\n",
       "<table border=\"1\" class=\"dataframe\">\n",
       "  <thead>\n",
       "    <tr style=\"text-align: right;\">\n",
       "      <th></th>\n",
       "      <th>age</th>\n",
       "      <th>duration</th>\n",
       "      <th>campaign</th>\n",
       "      <th>pdays</th>\n",
       "      <th>previous</th>\n",
       "      <th>y</th>\n",
       "      <th>month_ordinal</th>\n",
       "      <th>weekday_ordinal</th>\n",
       "      <th>poutcome_ordinal</th>\n",
       "      <th>job_encoding</th>\n",
       "      <th>education_encoding</th>\n",
       "    </tr>\n",
       "  </thead>\n",
       "  <tbody>\n",
       "    <tr>\n",
       "      <th>0</th>\n",
       "      <td>49</td>\n",
       "      <td>227</td>\n",
       "      <td>4</td>\n",
       "      <td>0</td>\n",
       "      <td>0</td>\n",
       "      <td>no</td>\n",
       "      <td>4</td>\n",
       "      <td>3</td>\n",
       "      <td>1</td>\n",
       "      <td>1</td>\n",
       "      <td>2</td>\n",
       "    </tr>\n",
       "    <tr>\n",
       "      <th>1</th>\n",
       "      <td>37</td>\n",
       "      <td>202</td>\n",
       "      <td>2</td>\n",
       "      <td>0</td>\n",
       "      <td>1</td>\n",
       "      <td>no</td>\n",
       "      <td>4</td>\n",
       "      <td>3</td>\n",
       "      <td>0</td>\n",
       "      <td>2</td>\n",
       "      <td>6</td>\n",
       "    </tr>\n",
       "    <tr>\n",
       "      <th>2</th>\n",
       "      <td>78</td>\n",
       "      <td>1148</td>\n",
       "      <td>1</td>\n",
       "      <td>0</td>\n",
       "      <td>0</td>\n",
       "      <td>yes</td>\n",
       "      <td>8</td>\n",
       "      <td>1</td>\n",
       "      <td>1</td>\n",
       "      <td>5</td>\n",
       "      <td>0</td>\n",
       "    </tr>\n",
       "    <tr>\n",
       "      <th>3</th>\n",
       "      <td>36</td>\n",
       "      <td>120</td>\n",
       "      <td>2</td>\n",
       "      <td>0</td>\n",
       "      <td>0</td>\n",
       "      <td>no</td>\n",
       "      <td>9</td>\n",
       "      <td>1</td>\n",
       "      <td>1</td>\n",
       "      <td>0</td>\n",
       "      <td>6</td>\n",
       "    </tr>\n",
       "    <tr>\n",
       "      <th>4</th>\n",
       "      <td>59</td>\n",
       "      <td>368</td>\n",
       "      <td>2</td>\n",
       "      <td>0</td>\n",
       "      <td>0</td>\n",
       "      <td>no</td>\n",
       "      <td>6</td>\n",
       "      <td>2</td>\n",
       "      <td>1</td>\n",
       "      <td>5</td>\n",
       "      <td>6</td>\n",
       "    </tr>\n",
       "  </tbody>\n",
       "</table>\n",
       "</div>"
      ],
      "text/plain": [
       "   age  duration  campaign  pdays  previous    y month_ordinal  \\\n",
       "0   49       227         4      0         0   no             4   \n",
       "1   37       202         2      0         1   no             4   \n",
       "2   78      1148         1      0         0  yes             8   \n",
       "3   36       120         2      0         0   no             9   \n",
       "4   59       368         2      0         0   no             6   \n",
       "\n",
       "  weekday_ordinal poutcome_ordinal  job_encoding  education_encoding  \n",
       "0               3                1             1                   2  \n",
       "1               3                0             2                   6  \n",
       "2               1                1             5                   0  \n",
       "3               1                1             0                   6  \n",
       "4               2                1             5                   6  "
      ]
     },
     "execution_count": 37,
     "metadata": {},
     "output_type": "execute_result"
    }
   ],
   "source": [
    "train_df.head()"
   ]
  },
  {
   "cell_type": "code",
   "execution_count": 38,
   "id": "20af8d76",
   "metadata": {},
   "outputs": [],
   "source": [
    "train_df['y']=np.where(train_df['y']=='yes',1,0)"
   ]
  },
  {
   "cell_type": "code",
   "execution_count": 39,
   "id": "59cf9a36",
   "metadata": {},
   "outputs": [
    {
     "data": {
      "text/html": [
       "<div>\n",
       "<style scoped>\n",
       "    .dataframe tbody tr th:only-of-type {\n",
       "        vertical-align: middle;\n",
       "    }\n",
       "\n",
       "    .dataframe tbody tr th {\n",
       "        vertical-align: top;\n",
       "    }\n",
       "\n",
       "    .dataframe thead th {\n",
       "        text-align: right;\n",
       "    }\n",
       "</style>\n",
       "<table border=\"1\" class=\"dataframe\">\n",
       "  <thead>\n",
       "    <tr style=\"text-align: right;\">\n",
       "      <th></th>\n",
       "      <th>age</th>\n",
       "      <th>duration</th>\n",
       "      <th>campaign</th>\n",
       "      <th>pdays</th>\n",
       "      <th>previous</th>\n",
       "      <th>month_ordinal</th>\n",
       "      <th>weekday_ordinal</th>\n",
       "      <th>poutcome_ordinal</th>\n",
       "      <th>job_encoding</th>\n",
       "      <th>education_encoding</th>\n",
       "      <th>marital_married</th>\n",
       "      <th>marital_single</th>\n",
       "      <th>housing_yes</th>\n",
       "      <th>loan_yes</th>\n",
       "      <th>contact_telephone</th>\n",
       "      <th>poutcome_nonexistent</th>\n",
       "      <th>poutcome_success</th>\n",
       "    </tr>\n",
       "  </thead>\n",
       "  <tbody>\n",
       "    <tr>\n",
       "      <th>0</th>\n",
       "      <td>49</td>\n",
       "      <td>227</td>\n",
       "      <td>4</td>\n",
       "      <td>0</td>\n",
       "      <td>0</td>\n",
       "      <td>4</td>\n",
       "      <td>3</td>\n",
       "      <td>1</td>\n",
       "      <td>1</td>\n",
       "      <td>2</td>\n",
       "      <td>1</td>\n",
       "      <td>0</td>\n",
       "      <td>0</td>\n",
       "      <td>0</td>\n",
       "      <td>0</td>\n",
       "      <td>1</td>\n",
       "      <td>0</td>\n",
       "    </tr>\n",
       "    <tr>\n",
       "      <th>1</th>\n",
       "      <td>37</td>\n",
       "      <td>202</td>\n",
       "      <td>2</td>\n",
       "      <td>0</td>\n",
       "      <td>1</td>\n",
       "      <td>4</td>\n",
       "      <td>3</td>\n",
       "      <td>0</td>\n",
       "      <td>2</td>\n",
       "      <td>6</td>\n",
       "      <td>1</td>\n",
       "      <td>0</td>\n",
       "      <td>0</td>\n",
       "      <td>0</td>\n",
       "      <td>1</td>\n",
       "      <td>0</td>\n",
       "      <td>0</td>\n",
       "    </tr>\n",
       "    <tr>\n",
       "      <th>2</th>\n",
       "      <td>78</td>\n",
       "      <td>1148</td>\n",
       "      <td>1</td>\n",
       "      <td>0</td>\n",
       "      <td>0</td>\n",
       "      <td>8</td>\n",
       "      <td>1</td>\n",
       "      <td>1</td>\n",
       "      <td>5</td>\n",
       "      <td>0</td>\n",
       "      <td>1</td>\n",
       "      <td>0</td>\n",
       "      <td>0</td>\n",
       "      <td>0</td>\n",
       "      <td>0</td>\n",
       "      <td>1</td>\n",
       "      <td>0</td>\n",
       "    </tr>\n",
       "    <tr>\n",
       "      <th>3</th>\n",
       "      <td>36</td>\n",
       "      <td>120</td>\n",
       "      <td>2</td>\n",
       "      <td>0</td>\n",
       "      <td>0</td>\n",
       "      <td>9</td>\n",
       "      <td>1</td>\n",
       "      <td>1</td>\n",
       "      <td>0</td>\n",
       "      <td>6</td>\n",
       "      <td>1</td>\n",
       "      <td>0</td>\n",
       "      <td>1</td>\n",
       "      <td>0</td>\n",
       "      <td>1</td>\n",
       "      <td>1</td>\n",
       "      <td>0</td>\n",
       "    </tr>\n",
       "    <tr>\n",
       "      <th>4</th>\n",
       "      <td>59</td>\n",
       "      <td>368</td>\n",
       "      <td>2</td>\n",
       "      <td>0</td>\n",
       "      <td>0</td>\n",
       "      <td>6</td>\n",
       "      <td>2</td>\n",
       "      <td>1</td>\n",
       "      <td>5</td>\n",
       "      <td>6</td>\n",
       "      <td>0</td>\n",
       "      <td>0</td>\n",
       "      <td>0</td>\n",
       "      <td>0</td>\n",
       "      <td>0</td>\n",
       "      <td>1</td>\n",
       "      <td>0</td>\n",
       "    </tr>\n",
       "  </tbody>\n",
       "</table>\n",
       "</div>"
      ],
      "text/plain": [
       "   age  duration  campaign  pdays  previous month_ordinal weekday_ordinal  \\\n",
       "0   49       227         4      0         0             4               3   \n",
       "1   37       202         2      0         1             4               3   \n",
       "2   78      1148         1      0         0             8               1   \n",
       "3   36       120         2      0         0             9               1   \n",
       "4   59       368         2      0         0             6               2   \n",
       "\n",
       "  poutcome_ordinal  job_encoding  education_encoding  marital_married  \\\n",
       "0                1             1                   2                1   \n",
       "1                0             2                   6                1   \n",
       "2                1             5                   0                1   \n",
       "3                1             0                   6                1   \n",
       "4                1             5                   6                0   \n",
       "\n",
       "   marital_single  housing_yes  loan_yes  contact_telephone  \\\n",
       "0               0            0         0                  0   \n",
       "1               0            0         0                  1   \n",
       "2               0            0         0                  0   \n",
       "3               0            1         0                  1   \n",
       "4               0            0         0                  0   \n",
       "\n",
       "   poutcome_nonexistent  poutcome_success  \n",
       "0                     1                 0  \n",
       "1                     0                 0  \n",
       "2                     1                 0  \n",
       "3                     1                 0  \n",
       "4                     1                 0  "
      ]
     },
     "execution_count": 39,
     "metadata": {},
     "output_type": "execute_result"
    }
   ],
   "source": [
    "X = pd.concat([train_df, train_data_dum], axis=1)\n",
    "X.drop(['y'],axis=1, inplace=True)\n",
    "X.head()"
   ]
  },
  {
   "cell_type": "code",
   "execution_count": 40,
   "id": "136e6995",
   "metadata": {},
   "outputs": [],
   "source": [
    "y=train_df['y']"
   ]
  },
  {
   "cell_type": "code",
   "execution_count": 41,
   "id": "c259772f",
   "metadata": {},
   "outputs": [],
   "source": [
    "#train test split\n",
    "X_train, X_test, y_train, y_test = train_test_split(X,y, test_size=0.25, random_state=42)"
   ]
  },
  {
   "cell_type": "markdown",
   "id": "d9643406",
   "metadata": {},
   "source": [
    "### Model Evaluation Criteria and Metrics:"
   ]
  },
  {
   "cell_type": "markdown",
   "id": "eb7f5964",
   "metadata": {},
   "source": [
    "On any classification problem the main goal is to minimize the false positive(precision) and false negative(recall) rate.\n",
    "\n",
    "#### Model Performance Caveat:\n",
    "\n",
    "1. Classified as the customer will agree for the deposit term and the customer doesn't - Loss of resources - False Positive \n",
    "2. Classified as the customer will not agree for the deposit term and the possibility he/she does - Loss of opportunity - False Negative\n",
    "\n",
    "Both the classes are important in this model to minimize the resource spent and maximize the opportunity given in order to maximize the profit. \n",
    "\n",
    "Metrics to satisfy our needs of measures are  - F1 beta score ( where the threshold is set to 1(f1 score) as focusses on both recall and precision)\n",
    "and PR AUC"
   ]
  },
  {
   "cell_type": "code",
   "execution_count": 42,
   "id": "353a0207",
   "metadata": {},
   "outputs": [],
   "source": [
    "def predict_measure_metrics(model, train, test, train_y, test_y):\n",
    "    # Initialize the empty list to store the scores\n",
    "    score_list = []\n",
    "    \n",
    "    model_fit = model.fit(train, train_y)\n",
    "    pred = model_fit.predict(test)\n",
    "    \n",
    "    f1_s = f1_score(test_y, pred)\n",
    "    avg_pre = average_precision_score(test_y, pred)\n",
    "    \n",
    "    print(\"Model: {}\".format(model))\n",
    "    print(\"*\"*40)\n",
    "    print(\"F1 Score: {}\".format(f1_s))\n",
    "    print(\"Avg precision Recall Score: {}\".format(avg_pre))\n",
    "        \n",
    "    score_list.extend((f1_s, avg_pre ))\n",
    "            "
   ]
  },
  {
   "cell_type": "markdown",
   "id": "c7759f68",
   "metadata": {},
   "source": [
    "### Created a baseline model using Logistic Regression with imbalance dataset"
   ]
  },
  {
   "cell_type": "code",
   "execution_count": 43,
   "id": "b2c80d7d",
   "metadata": {},
   "outputs": [],
   "source": [
    "logR=LogisticRegression()"
   ]
  },
  {
   "cell_type": "code",
   "execution_count": 44,
   "id": "4c60b96c",
   "metadata": {},
   "outputs": [
    {
     "name": "stdout",
     "output_type": "stream",
     "text": [
      "Model: LogisticRegression()\n",
      "****************************************\n",
      "F1 Score: 0.396280400572246\n",
      "Avg precision Recall Score: 0.2613332852897653\n"
     ]
    }
   ],
   "source": [
    "predict_measure_metrics(logR, X_train, X_test, y_train, y_test)"
   ]
  },
  {
   "cell_type": "markdown",
   "id": "b6eacb7e",
   "metadata": {},
   "source": [
    "Logistic regression with imbalanced dataset - Both F1 score and the average precision recall score is very poor -less that 40%.\n",
    "Lets see if the model performance can be improved by handling imbalanced dataset, Technique to use -\n",
    "\n",
    "    1. Undersampling - Deleted the majority cases to match with minority.\n",
    "    2. Oversampling - Create more data points on top of existing data points in order to attain balanced target data\n",
    "    3. Oversampling using SMOTE - Create more data points in reference with similar data points using KNN.\n",
    "    \n",
    "Here I used Oversampling with SMOTETOMEK technique.    "
   ]
  },
  {
   "cell_type": "markdown",
   "id": "b22904fa",
   "metadata": {},
   "source": [
    "### Due to imbalance dataset, using oversampling with SMOTETOMEK technique to handle imbalance dataset.\n"
   ]
  },
  {
   "cell_type": "code",
   "execution_count": 45,
   "id": "9e453bdb",
   "metadata": {},
   "outputs": [],
   "source": [
    "from imblearn.combine import SMOTETomek\n",
    "from collections import Counter"
   ]
  },
  {
   "cell_type": "code",
   "execution_count": 46,
   "id": "37d3d791",
   "metadata": {},
   "outputs": [
    {
     "name": "stdout",
     "output_type": "stream",
     "text": [
      "The value of sample before fit Counter({0: 21942, 1: 2764})\n",
      "The value of sample after fit Counter({0: 21795, 1: 16309})\n"
     ]
    }
   ],
   "source": [
    "# used SMOTE technique to match atleast 75%.\n",
    "sm=SMOTETomek(0.75)\n",
    "X_train_sm, y_train_sm = sm.fit_resample(X_train, y_train)\n",
    "print(\"The value of sample before fit {}\".format(Counter(y_train)))\n",
    "print(\"The value of sample after fit {}\".format(Counter(y_train_sm)))"
   ]
  },
  {
   "cell_type": "code",
   "execution_count": 47,
   "id": "a935c5ba",
   "metadata": {},
   "outputs": [
    {
     "name": "stdout",
     "output_type": "stream",
     "text": [
      "Model: LogisticRegression()\n",
      "****************************************\n",
      "F1 Score: 0.5174043833261711\n",
      "Avg precision Recall Score: 0.31922801650398674\n"
     ]
    }
   ],
   "source": [
    "# using the new balanced data set on the logistic regression that was used in baseline model\n",
    "predict_measure_metrics(logR, X_train_sm, X_test, y_train_sm, y_test)"
   ]
  },
  {
   "cell_type": "markdown",
   "id": "0085b029",
   "metadata": {},
   "source": [
    "Fixing the imbalance dataset made an improvement in model performance. Will build different model using cross validation to find the best model."
   ]
  },
  {
   "cell_type": "markdown",
   "id": "cd2eb334",
   "metadata": {},
   "source": [
    "### Build different classification model using KFolds and cross_val_score with pipelines, "
   ]
  },
  {
   "cell_type": "code",
   "execution_count": 48,
   "id": "2b181dcb",
   "metadata": {},
   "outputs": [
    {
     "data": {
      "application/javascript": [
       "\n",
       "        if (window._pyforest_update_imports_cell) { window._pyforest_update_imports_cell('from sklearn.preprocessing import StandardScaler'); }\n",
       "    "
      ],
      "text/plain": [
       "<IPython.core.display.Javascript object>"
      ]
     },
     "metadata": {},
     "output_type": "display_data"
    },
    {
     "data": {
      "application/javascript": [
       "\n",
       "        if (window._pyforest_update_imports_cell) { window._pyforest_update_imports_cell('from sklearn.preprocessing import StandardScaler'); }\n",
       "    "
      ],
      "text/plain": [
       "<IPython.core.display.Javascript object>"
      ]
     },
     "metadata": {},
     "output_type": "display_data"
    },
    {
     "data": {
      "application/javascript": [
       "\n",
       "        if (window._pyforest_update_imports_cell) { window._pyforest_update_imports_cell('from sklearn.preprocessing import StandardScaler'); }\n",
       "    "
      ],
      "text/plain": [
       "<IPython.core.display.Javascript object>"
      ]
     },
     "metadata": {},
     "output_type": "display_data"
    },
    {
     "data": {
      "application/javascript": [
       "\n",
       "        if (window._pyforest_update_imports_cell) { window._pyforest_update_imports_cell('from sklearn.preprocessing import StandardScaler'); }\n",
       "    "
      ],
      "text/plain": [
       "<IPython.core.display.Javascript object>"
      ]
     },
     "metadata": {},
     "output_type": "display_data"
    },
    {
     "data": {
      "application/javascript": [
       "\n",
       "        if (window._pyforest_update_imports_cell) { window._pyforest_update_imports_cell('from sklearn.preprocessing import StandardScaler'); }\n",
       "    "
      ],
      "text/plain": [
       "<IPython.core.display.Javascript object>"
      ]
     },
     "metadata": {},
     "output_type": "display_data"
    },
    {
     "data": {
      "application/javascript": [
       "\n",
       "        if (window._pyforest_update_imports_cell) { window._pyforest_update_imports_cell('from sklearn.preprocessing import StandardScaler\\nfrom sklearn.model_selection import StratifiedKFold'); }\n",
       "    "
      ],
      "text/plain": [
       "<IPython.core.display.Javascript object>"
      ]
     },
     "metadata": {},
     "output_type": "display_data"
    },
    {
     "name": "stdout",
     "output_type": "stream",
     "text": [
      "LR: 85.17840322288188\n"
     ]
    },
    {
     "data": {
      "application/javascript": [
       "\n",
       "        if (window._pyforest_update_imports_cell) { window._pyforest_update_imports_cell('from sklearn.preprocessing import StandardScaler\\nfrom sklearn.model_selection import StratifiedKFold'); }\n",
       "    "
      ],
      "text/plain": [
       "<IPython.core.display.Javascript object>"
      ]
     },
     "metadata": {},
     "output_type": "display_data"
    },
    {
     "name": "stdout",
     "output_type": "stream",
     "text": [
      "DTREE: 88.65088496891975\n"
     ]
    },
    {
     "data": {
      "application/javascript": [
       "\n",
       "        if (window._pyforest_update_imports_cell) { window._pyforest_update_imports_cell('from sklearn.preprocessing import StandardScaler\\nfrom sklearn.model_selection import StratifiedKFold'); }\n",
       "    "
      ],
      "text/plain": [
       "<IPython.core.display.Javascript object>"
      ]
     },
     "metadata": {},
     "output_type": "display_data"
    },
    {
     "name": "stdout",
     "output_type": "stream",
     "text": [
      "RF: 92.33505424235793\n"
     ]
    },
    {
     "data": {
      "application/javascript": [
       "\n",
       "        if (window._pyforest_update_imports_cell) { window._pyforest_update_imports_cell('from sklearn.preprocessing import StandardScaler\\nfrom sklearn.model_selection import StratifiedKFold'); }\n",
       "    "
      ],
      "text/plain": [
       "<IPython.core.display.Javascript object>"
      ]
     },
     "metadata": {},
     "output_type": "display_data"
    },
    {
     "name": "stdout",
     "output_type": "stream",
     "text": [
      "GBM: 88.78024157435873\n"
     ]
    },
    {
     "data": {
      "application/javascript": [
       "\n",
       "        if (window._pyforest_update_imports_cell) { window._pyforest_update_imports_cell('from sklearn.preprocessing import StandardScaler\\nfrom sklearn.model_selection import StratifiedKFold'); }\n",
       "    "
      ],
      "text/plain": [
       "<IPython.core.display.Javascript object>"
      ]
     },
     "metadata": {},
     "output_type": "display_data"
    },
    {
     "name": "stdout",
     "output_type": "stream",
     "text": [
      "XGB: 91.59717976725904\n"
     ]
    }
   ],
   "source": [
    "models = []  # Empty list to store all the models\n",
    "\n",
    "# Appending pipelines for each model into the list\n",
    "models.append(\n",
    "    (\n",
    "        \"LR\",\n",
    "        Pipeline(\n",
    "            steps=[\n",
    "                (\"scaler\", StandardScaler()),\n",
    "                (\"log_reg\", LogisticRegression(random_state=1)),\n",
    "            ]\n",
    "        ),\n",
    "    )\n",
    ")\n",
    "models.append(\n",
    "    (\n",
    "        \"DTREE\",\n",
    "        Pipeline(\n",
    "            steps=[\n",
    "                (\"scaler\", StandardScaler()),\n",
    "                (\"decision_tree\", DecisionTreeClassifier(random_state=1)),\n",
    "            ]\n",
    "        ),\n",
    "    )\n",
    ")\n",
    "models.append(\n",
    "    (\n",
    "        \"RF\",\n",
    "        Pipeline(\n",
    "            steps=[\n",
    "                (\"scaler\", StandardScaler()),\n",
    "                (\"random_forest\", RandomForestClassifier(random_state=1)),\n",
    "            ]\n",
    "        ),\n",
    "    )\n",
    ")\n",
    "models.append(\n",
    "    (\n",
    "        \"GBM\",\n",
    "        Pipeline(\n",
    "            steps=[\n",
    "                (\"scaler\", StandardScaler()),\n",
    "                (\"gradient_boosting\", GradientBoostingClassifier(random_state=1)),\n",
    "            ]\n",
    "        ),\n",
    "    )\n",
    ")\n",
    "models.append(\n",
    "    (\n",
    "        \"XGB\",\n",
    "        Pipeline(\n",
    "            steps=[\n",
    "                (\"scaler\", StandardScaler()),\n",
    "                (\"xgboost\", XGBClassifier(random_state=1,eval_metric='logloss')),\n",
    "            ]\n",
    "        ),\n",
    "    )\n",
    ")\n",
    "\n",
    "\n",
    "results = []  # Empty list to store all model's CV scores\n",
    "names = []  # Empty list to store name of the models\n",
    "\n",
    "# loop through all models to get the mean cross validated score\n",
    "for name, model in models:\n",
    "    scoring = \"f1\"\n",
    "    kfold = StratifiedKFold(\n",
    "        n_splits=5, shuffle=True, random_state=1\n",
    "    )  # Setting number of splits equal to 5\n",
    "    cv_result = cross_val_score(\n",
    "        estimator=model, X=X_train_sm, y=y_train_sm, scoring=scoring, cv=kfold\n",
    "    )\n",
    "    results.append(cv_result)\n",
    "    names.append(name)\n",
    "    print(\"{}: {}\".format(name, cv_result.mean() * 100))"
   ]
  },
  {
   "cell_type": "markdown",
   "id": "3cb3ae31",
   "metadata": {},
   "source": [
    "#### Model performance comparision."
   ]
  },
  {
   "cell_type": "code",
   "execution_count": 49,
   "id": "1674cc60",
   "metadata": {},
   "outputs": [
    {
     "data": {
      "image/png": "[encoded data removed]",
      "text/plain": [
       "<Figure size 720x360 with 1 Axes>"
      ]
     },
     "metadata": {
      "needs_background": "light"
     },
     "output_type": "display_data"
    }
   ],
   "source": [
    "# Compare Model Performance\n",
    "fig = plt.figure(figsize = (10,5))\n",
    "\n",
    "ax = fig.add_subplot(111)\n",
    "\n",
    "plt.title(\"Model Performance\")\n",
    "plt.boxplot(results, vert=0)\n",
    "ax.set_yticklabels(names)\n",
    "plt.savefig(\"images/Model_comparision.png\")\n",
    "\n",
    "plt.show()"
   ]
  },
  {
   "cell_type": "markdown",
   "id": "13147781",
   "metadata": {},
   "source": [
    "From the above chart, we can say the best two models are RandomForestClassifier and XGBoost, will tune these models to improve the performance."
   ]
  },
  {
   "cell_type": "markdown",
   "id": "9fa3ee2a",
   "metadata": {},
   "source": [
    "### Feature Selection"
   ]
  },
  {
   "cell_type": "code",
   "execution_count": 50,
   "id": "542751ca",
   "metadata": {},
   "outputs": [],
   "source": [
    "from sklearn.ensemble import ExtraTreesRegressor"
   ]
  },
  {
   "cell_type": "code",
   "execution_count": 51,
   "id": "a8401c28",
   "metadata": {},
   "outputs": [
    {
     "data": {
      "text/plain": [
       "ExtraTreesRegressor()"
      ]
     },
     "execution_count": 51,
     "metadata": {},
     "output_type": "execute_result"
    }
   ],
   "source": [
    "selection = ExtraTreesRegressor()\n",
    "selection.fit(X_train_sm, y_train_sm)"
   ]
  },
  {
   "cell_type": "code",
   "execution_count": 52,
   "id": "d1d218d1",
   "metadata": {},
   "outputs": [
    {
     "data": {
      "text/plain": [
       "array([0.06413932, 0.29063878, 0.0323081 , 0.01539747, 0.03375622,\n",
       "       0.1280178 , 0.03867432, 0.02424872, 0.03789283, 0.03629265,\n",
       "       0.02276588, 0.0219516 , 0.02747241, 0.01469592, 0.13165169,\n",
       "       0.07808677, 0.0020095 ])"
      ]
     },
     "execution_count": 52,
     "metadata": {},
     "output_type": "execute_result"
    }
   ],
   "source": [
    "selection.feature_importances_"
   ]
  },
  {
   "cell_type": "code",
   "execution_count": 53,
   "id": "aa372f17",
   "metadata": {},
   "outputs": [
    {
     "data": {
      "image/png": "[encoded data removed]",
      "text/plain": [
       "<Figure size 864x432 with 1 Axes>"
      ]
     },
     "metadata": {
      "needs_background": "light"
     },
     "output_type": "display_data"
    }
   ],
   "source": [
    "plt.figure(figsize = (12,6))\n",
    "feat_import = pd.Series(selection.feature_importances_, index = X.columns)\n",
    "feat_import.nlargest(20).plot(kind='barh', color=\"Green\")\n",
    "plt.savefig(\"images/feature_importance.png\")\n",
    "plt.show()"
   ]
  },
  {
   "cell_type": "markdown",
   "id": "8149429b",
   "metadata": {},
   "source": [
    "* Based on feature importance, the most important feature is the call duration, it it critical duration='0' means in default customer response = \"No\".\n",
    "* Next important feature is phone campaign, in general by talking to the customer can relate what their business needs and is easy for sales person to achieve the goal.\n",
    "* The other two important features are month and poutcome_nonexistent, the month really maters to perform the campaign and if the customer did not exist during the previous campaign is a possiblility for a \"yes\""
   ]
  },
  {
   "cell_type": "markdown",
   "id": "2e0d8f2f",
   "metadata": {},
   "source": [
    "### Recommendation"
   ]
  },
  {
   "cell_type": "markdown",
   "id": "1dabeae4",
   "metadata": {},
   "source": [
    "* Perform most of the campaign during summer month, when customer is more relaxed and the response rate is higher.\n",
    "* Contacting customer through phone and targetting the age group (middle age) makes a comparative difference.\n",
    " "
   ]
  },
  {
   "cell_type": "code",
   "execution_count": null,
   "id": "c6071810",
   "metadata": {},
   "outputs": [],
   "source": []
  }
 ],
 "metadata": {
  "kernelspec": {
   "display_name": "Python 3",
   "language": "python",
   "name": "python3"
  },
  "language_info": {
   "codemirror_mode": {
    "name": "ipython",
    "version": 3
   },
   "file_extension": ".py",
   "mimetype": "text/x-python",
   "name": "python",
   "nbconvert_exporter": "python",
   "pygments_lexer": "ipython3",
   "version": "3.8.8"
  }
 },
 "nbformat": 4,
 "nbformat_minor": 5
}
